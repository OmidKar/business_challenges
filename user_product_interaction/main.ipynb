{
 "cells": [
  {
   "cell_type": "markdown",
   "metadata": {},
   "source": [
    "# Challenge 3 - understanding user and product interaction\n",
    "\n",
    "Amazon’s employee travel provider has asked you to review how users interact with their online travel website.\n",
    "They store their data in JSON files. Each row in these files lists all the different cities that have been searched for by a user within the same session (as well as some other info about the user). \n",
    "\n",
    "## Business Questions\n",
    "\n",
    "1- There was a bug in the code and one country didn't get logged. Can you guess which country? How?<br>\n",
    "2- For each city, find the most likely city to be also searched for within the same session.<br>\n",
    "3- Travel sites are browsed by two kinds of users. Users who are actually planning a trip and users who just dream about a   vacation. The first group obviously has a much higher purchasing intent. Users planning a trip often search for cities close to each other, while users who search for cities far away from each other are often just dreaming about a vacation (or a great work trip!). Based on this idea, come up with an algorithm that clusters sessions into two groups: high intent and low intent.<br>\n",
    "\n",
    "In the following notebooks, I will explore the available data and try to provide data-driven answers to the above business questions.\n",
    "\n",
    "## Importing required libraries"
   ]
  },
  {
   "cell_type": "code",
   "execution_count": 1,
   "metadata": {},
   "outputs": [],
   "source": [
    "import pandas as pd\n",
    "import json\n",
    "import numpy as np\n",
    "from datetime import datetime, timedelta\n",
    "import seaborn as sns\n",
    "import matplotlib.pyplot as plt\n",
    "import copy\n",
    "import itertools\n",
    "import warnings\n",
    "warnings.filterwarnings(\"ignore\")"
   ]
  },
  {
   "cell_type": "markdown",
   "metadata": {},
   "source": [
    "## Read in and preprocessing the data\n",
    "\n",
    "The data provided is in JSON format and include fields that can be summarised as below:\n",
    "\n",
    "Fields:<br>\n",
    "*session_id*: session id. <br> \n",
    "*unix_timestamp*: unix timestamp of session start time <br> \n",
    "*cities*: the unique cities which were searched within the same session <br> \n",
    "*user*: <br> \n",
    "    &nbsp;&nbsp;&nbsp;&nbsp;&nbsp;&nbsp;&nbsp; *user_id*: the id of the user <br> \n",
    "    &nbsp;&nbsp;&nbsp;&nbsp;&nbsp;&nbsp;&nbsp; *joining_date*: when the user created the account<br> \n",
    "    &nbsp;&nbsp;&nbsp;&nbsp;&nbsp;&nbsp;&nbsp; *country*: where the user is based <br>\n",
    "    \n",
    "So, first I read in the data using the json loader from jason library."
   ]
  },
  {
   "cell_type": "code",
   "execution_count": 2,
   "metadata": {},
   "outputs": [
    {
     "data": {
      "text/plain": [
       "{'session_id': ['X061RFWB06K9V'],\n",
       " 'unix_timestamp': [1442503708],\n",
       " 'cities': ['New York NY, Newark NJ'],\n",
       " 'user': [[{'user_id': 2024, 'joining_date': '2015-03-22', 'country': 'UK'}]]}"
      ]
     },
     "execution_count": 2,
     "metadata": {},
     "output_type": "execute_result"
    }
   ],
   "source": [
    "dataPath = \"./\"\n",
    "jsonStr = open(dataPath+'city_search.json').read()\n",
    "jsonData = json.loads(jsonStr)\n",
    "jsonData[0]"
   ]
  },
  {
   "cell_type": "markdown",
   "metadata": {},
   "source": [
    "Inspecting the first element of the json hash confirms the given template above aabout the fields. I now want to convert this data to tabular format so I can analyse it more easily going forward. I use the utility provided in pandas library to convert json to dataframe. "
   ]
  },
  {
   "cell_type": "code",
   "execution_count": 3,
   "metadata": {},
   "outputs": [
    {
     "data": {
      "text/html": [
       "<div>\n",
       "<style scoped>\n",
       "    .dataframe tbody tr th:only-of-type {\n",
       "        vertical-align: middle;\n",
       "    }\n",
       "\n",
       "    .dataframe tbody tr th {\n",
       "        vertical-align: top;\n",
       "    }\n",
       "\n",
       "    .dataframe thead th {\n",
       "        text-align: right;\n",
       "    }\n",
       "</style>\n",
       "<table border=\"1\" class=\"dataframe\">\n",
       "  <thead>\n",
       "    <tr style=\"text-align: right;\">\n",
       "      <th></th>\n",
       "      <th>session_id</th>\n",
       "      <th>unix_timestamp</th>\n",
       "      <th>cities</th>\n",
       "      <th>user</th>\n",
       "    </tr>\n",
       "  </thead>\n",
       "  <tbody>\n",
       "    <tr>\n",
       "      <th>0</th>\n",
       "      <td>[X061RFWB06K9V]</td>\n",
       "      <td>[1442503708]</td>\n",
       "      <td>[New York NY, Newark NJ]</td>\n",
       "      <td>[[{'user_id': 2024, 'joining_date': '2015-03-2...</td>\n",
       "    </tr>\n",
       "    <tr>\n",
       "      <th>1</th>\n",
       "      <td>[5AZ2X2A9BHH5U]</td>\n",
       "      <td>[1441353991]</td>\n",
       "      <td>[New York NY, Jersey City NJ, Philadelphia PA]</td>\n",
       "      <td>[[{'user_id': 2853, 'joining_date': '2015-03-2...</td>\n",
       "    </tr>\n",
       "    <tr>\n",
       "      <th>2</th>\n",
       "      <td>[SHTB4IYAX4PX6]</td>\n",
       "      <td>[1440843490]</td>\n",
       "      <td>[San Antonio TX]</td>\n",
       "      <td>[[{'user_id': 10958, 'joining_date': '2015-03-...</td>\n",
       "    </tr>\n",
       "    <tr>\n",
       "      <th>3</th>\n",
       "      <td>[JBRB8MZGTX3M4]</td>\n",
       "      <td>[1427268063]</td>\n",
       "      <td>[Edmonton AB]</td>\n",
       "      <td>[[{'user_id': 7693, 'joining_date': '2015-03-1...</td>\n",
       "    </tr>\n",
       "    <tr>\n",
       "      <th>4</th>\n",
       "      <td>[YJCMPURC2FL9C]</td>\n",
       "      <td>[1430559067]</td>\n",
       "      <td>[Phoenix AZ, Houston TX]</td>\n",
       "      <td>[[{'user_id': 7506, 'joining_date': '2015-02-2...</td>\n",
       "    </tr>\n",
       "    <tr>\n",
       "      <th>5</th>\n",
       "      <td>[LKOKP80QD6BEO]</td>\n",
       "      <td>[1434199991]</td>\n",
       "      <td>[San Diego CA]</td>\n",
       "      <td>[[{'user_id': 3743, 'joining_date': '2015-03-0...</td>\n",
       "    </tr>\n",
       "    <tr>\n",
       "      <th>6</th>\n",
       "      <td>[YOVUIM79SGS5Y]</td>\n",
       "      <td>[1443171887]</td>\n",
       "      <td>[Montreal QC, Chicago IL]</td>\n",
       "      <td>[[{'user_id': 8831, 'joining_date': '2015-03-0...</td>\n",
       "    </tr>\n",
       "    <tr>\n",
       "      <th>7</th>\n",
       "      <td>[SHXEY67QWKP9K]</td>\n",
       "      <td>[1431766104]</td>\n",
       "      <td>[Calgary AB, New York NY]</td>\n",
       "      <td>[[{'user_id': 587, 'joining_date': '2015-03-16...</td>\n",
       "    </tr>\n",
       "    <tr>\n",
       "      <th>8</th>\n",
       "      <td>[9P74JL5KMC9G9]</td>\n",
       "      <td>[1434816246]</td>\n",
       "      <td>[Chicago IL, New York NY]</td>\n",
       "      <td>[[{'user_id': 365, 'joining_date': '2015-03-22...</td>\n",
       "    </tr>\n",
       "    <tr>\n",
       "      <th>9</th>\n",
       "      <td>[UY49RTVRX3GL7]</td>\n",
       "      <td>[1439104667]</td>\n",
       "      <td>[New York NY]</td>\n",
       "      <td>[[{'user_id': 5995, 'joining_date': '2015-03-2...</td>\n",
       "    </tr>\n",
       "  </tbody>\n",
       "</table>\n",
       "</div>"
      ],
      "text/plain": [
       "        session_id unix_timestamp  \\\n",
       "0  [X061RFWB06K9V]   [1442503708]   \n",
       "1  [5AZ2X2A9BHH5U]   [1441353991]   \n",
       "2  [SHTB4IYAX4PX6]   [1440843490]   \n",
       "3  [JBRB8MZGTX3M4]   [1427268063]   \n",
       "4  [YJCMPURC2FL9C]   [1430559067]   \n",
       "5  [LKOKP80QD6BEO]   [1434199991]   \n",
       "6  [YOVUIM79SGS5Y]   [1443171887]   \n",
       "7  [SHXEY67QWKP9K]   [1431766104]   \n",
       "8  [9P74JL5KMC9G9]   [1434816246]   \n",
       "9  [UY49RTVRX3GL7]   [1439104667]   \n",
       "\n",
       "                                           cities  \\\n",
       "0                        [New York NY, Newark NJ]   \n",
       "1  [New York NY, Jersey City NJ, Philadelphia PA]   \n",
       "2                                [San Antonio TX]   \n",
       "3                                   [Edmonton AB]   \n",
       "4                        [Phoenix AZ, Houston TX]   \n",
       "5                                  [San Diego CA]   \n",
       "6                       [Montreal QC, Chicago IL]   \n",
       "7                       [Calgary AB, New York NY]   \n",
       "8                       [Chicago IL, New York NY]   \n",
       "9                                   [New York NY]   \n",
       "\n",
       "                                                user  \n",
       "0  [[{'user_id': 2024, 'joining_date': '2015-03-2...  \n",
       "1  [[{'user_id': 2853, 'joining_date': '2015-03-2...  \n",
       "2  [[{'user_id': 10958, 'joining_date': '2015-03-...  \n",
       "3  [[{'user_id': 7693, 'joining_date': '2015-03-1...  \n",
       "4  [[{'user_id': 7506, 'joining_date': '2015-02-2...  \n",
       "5  [[{'user_id': 3743, 'joining_date': '2015-03-0...  \n",
       "6  [[{'user_id': 8831, 'joining_date': '2015-03-0...  \n",
       "7  [[{'user_id': 587, 'joining_date': '2015-03-16...  \n",
       "8  [[{'user_id': 365, 'joining_date': '2015-03-22...  \n",
       "9  [[{'user_id': 5995, 'joining_date': '2015-03-2...  "
      ]
     },
     "execution_count": 3,
     "metadata": {},
     "output_type": "execute_result"
    }
   ],
   "source": [
    "data = pd.io.json.json_normalize(jsonData)\n",
    "data.head(10)"
   ]
  },
  {
   "cell_type": "markdown",
   "metadata": {},
   "source": [
    "SO far so good... The json_normaliser read objects as is, in this case arrays. As such, I need to further process this data to bring it to a format ready for analysing. <br>\n",
    "Column \"session_id\" is easy to process as I only need use the unique id (first element) as a scalar.<br> \n",
    "For \"unix_timestamp\", I decide to convert it (the first and only element of array) to date and time values, so I can work with them for analysis. I use the utility provided in datetime libaryr for this purpose. <br>\n",
    "\"Cities\" column contains collection of cities within one search session. I just convert it to a string. <br>\n",
    "The \"user\" column is most interesting: it contains three sub-fields. I want to bring all of them to the surface and add to the columns of the dataframe. So I replace the \"user\" column with \"user_id\", \"joining_date\" and \"country\". <br>Before that, I just want to make sure that all the subfields of \"user\" only have one single entry (i.e. could a user have multiple sets of info?). So first I check for that.     "
   ]
  },
  {
   "cell_type": "code",
   "execution_count": 4,
   "metadata": {},
   "outputs": [
    {
     "name": "stdout",
     "output_type": "stream",
     "text": [
      "First layer array length =  1\n",
      "Second layer array length =  1\n"
     ]
    }
   ],
   "source": [
    "#check if there are any multi-values in user info arrays\n",
    "print(\"First layer array length = \", data['user'].map(lambda x: len(x)).max())\n",
    "print(\"Second layer array length = \", data['user'].map(lambda x: len(x[0])).max())"
   ]
  },
  {
   "cell_type": "markdown",
   "metadata": {},
   "source": [
    "Cool... so there is not users with multiple information. Therefore, I can go ahead with the processing of the data as mentioned above. On important decision for me is that for any field that has not entry, I will replace it with a pandas NaN object so I can detec it later in my analysis. Finally, I also decided to sort the data based on session date and time. I think it will be easier for qucik inspections going forward."
   ]
  },
  {
   "cell_type": "code",
   "execution_count": 5,
   "metadata": {
    "scrolled": true
   },
   "outputs": [
    {
     "data": {
      "text/html": [
       "<div>\n",
       "<style scoped>\n",
       "    .dataframe tbody tr th:only-of-type {\n",
       "        vertical-align: middle;\n",
       "    }\n",
       "\n",
       "    .dataframe tbody tr th {\n",
       "        vertical-align: top;\n",
       "    }\n",
       "\n",
       "    .dataframe thead th {\n",
       "        text-align: right;\n",
       "    }\n",
       "</style>\n",
       "<table border=\"1\" class=\"dataframe\">\n",
       "  <thead>\n",
       "    <tr style=\"text-align: right;\">\n",
       "      <th></th>\n",
       "      <th>session_id</th>\n",
       "      <th>cities</th>\n",
       "      <th>session_date</th>\n",
       "      <th>session_time</th>\n",
       "      <th>user_id</th>\n",
       "      <th>joining_date</th>\n",
       "      <th>country</th>\n",
       "    </tr>\n",
       "  </thead>\n",
       "  <tbody>\n",
       "    <tr>\n",
       "      <th>12866</th>\n",
       "      <td>I9A6XU2KX4QLY</td>\n",
       "      <td>Los Angeles CA</td>\n",
       "      <td>2015-02-28</td>\n",
       "      <td>03:40:35</td>\n",
       "      <td>7327</td>\n",
       "      <td>2015-02-28</td>\n",
       "      <td>NaN</td>\n",
       "    </tr>\n",
       "    <tr>\n",
       "      <th>3051</th>\n",
       "      <td>YAVR0T93L6Z6W</td>\n",
       "      <td>New York NY</td>\n",
       "      <td>2015-02-28</td>\n",
       "      <td>15:30:16</td>\n",
       "      <td>9713</td>\n",
       "      <td>2015-02-28</td>\n",
       "      <td>US</td>\n",
       "    </tr>\n",
       "    <tr>\n",
       "      <th>5999</th>\n",
       "      <td>DRAR5CK2PVT7J</td>\n",
       "      <td>New York NY</td>\n",
       "      <td>2015-03-01</td>\n",
       "      <td>03:33:58</td>\n",
       "      <td>5005</td>\n",
       "      <td>2015-02-28</td>\n",
       "      <td>IT</td>\n",
       "    </tr>\n",
       "    <tr>\n",
       "      <th>7401</th>\n",
       "      <td>2TO9HMQEK5D9M</td>\n",
       "      <td>Los Angeles CA, Anaheim CA, Santa Ana CA, Long...</td>\n",
       "      <td>2015-03-01</td>\n",
       "      <td>11:36:11</td>\n",
       "      <td>1942</td>\n",
       "      <td>2015-03-01</td>\n",
       "      <td>ES</td>\n",
       "    </tr>\n",
       "    <tr>\n",
       "      <th>923</th>\n",
       "      <td>R3EW1FQVC7MQO</td>\n",
       "      <td>New York NY, Jersey City NJ</td>\n",
       "      <td>2015-03-01</td>\n",
       "      <td>12:33:50</td>\n",
       "      <td>6419</td>\n",
       "      <td>2015-03-01</td>\n",
       "      <td>DE</td>\n",
       "    </tr>\n",
       "    <tr>\n",
       "      <th>2561</th>\n",
       "      <td>HCCFWYHWI2NHQ</td>\n",
       "      <td>Toronto ON</td>\n",
       "      <td>2015-03-01</td>\n",
       "      <td>12:45:51</td>\n",
       "      <td>286</td>\n",
       "      <td>2015-02-28</td>\n",
       "      <td>NaN</td>\n",
       "    </tr>\n",
       "    <tr>\n",
       "      <th>18805</th>\n",
       "      <td>CR7GXYLP4AZ1X</td>\n",
       "      <td>OTTAWA ON</td>\n",
       "      <td>2015-03-01</td>\n",
       "      <td>13:37:11</td>\n",
       "      <td>603</td>\n",
       "      <td>2015-02-28</td>\n",
       "      <td>US</td>\n",
       "    </tr>\n",
       "    <tr>\n",
       "      <th>8802</th>\n",
       "      <td>UC8MULBH0TJOP</td>\n",
       "      <td>Chicago IL</td>\n",
       "      <td>2015-03-01</td>\n",
       "      <td>18:05:37</td>\n",
       "      <td>5659</td>\n",
       "      <td>2015-02-28</td>\n",
       "      <td>IT</td>\n",
       "    </tr>\n",
       "    <tr>\n",
       "      <th>5425</th>\n",
       "      <td>BJSZQ8C1R85YL</td>\n",
       "      <td>Toronto ON, Chicago IL</td>\n",
       "      <td>2015-03-02</td>\n",
       "      <td>00:27:29</td>\n",
       "      <td>9099</td>\n",
       "      <td>2015-03-01</td>\n",
       "      <td>US</td>\n",
       "    </tr>\n",
       "    <tr>\n",
       "      <th>7287</th>\n",
       "      <td>SANFHCC05LZRE</td>\n",
       "      <td>Houston TX, San Antonio TX, Austin TX</td>\n",
       "      <td>2015-03-02</td>\n",
       "      <td>01:44:20</td>\n",
       "      <td>6066</td>\n",
       "      <td>2015-03-01</td>\n",
       "      <td>US</td>\n",
       "    </tr>\n",
       "  </tbody>\n",
       "</table>\n",
       "</div>"
      ],
      "text/plain": [
       "          session_id                                             cities  \\\n",
       "12866  I9A6XU2KX4QLY                                     Los Angeles CA   \n",
       "3051   YAVR0T93L6Z6W                                        New York NY   \n",
       "5999   DRAR5CK2PVT7J                                        New York NY   \n",
       "7401   2TO9HMQEK5D9M  Los Angeles CA, Anaheim CA, Santa Ana CA, Long...   \n",
       "923    R3EW1FQVC7MQO                        New York NY, Jersey City NJ   \n",
       "2561   HCCFWYHWI2NHQ                                         Toronto ON   \n",
       "18805  CR7GXYLP4AZ1X                                          OTTAWA ON   \n",
       "8802   UC8MULBH0TJOP                                         Chicago IL   \n",
       "5425   BJSZQ8C1R85YL                             Toronto ON, Chicago IL   \n",
       "7287   SANFHCC05LZRE              Houston TX, San Antonio TX, Austin TX   \n",
       "\n",
       "      session_date session_time  user_id joining_date country  \n",
       "12866   2015-02-28     03:40:35     7327   2015-02-28     NaN  \n",
       "3051    2015-02-28     15:30:16     9713   2015-02-28      US  \n",
       "5999    2015-03-01     03:33:58     5005   2015-02-28      IT  \n",
       "7401    2015-03-01     11:36:11     1942   2015-03-01      ES  \n",
       "923     2015-03-01     12:33:50     6419   2015-03-01      DE  \n",
       "2561    2015-03-01     12:45:51      286   2015-02-28     NaN  \n",
       "18805   2015-03-01     13:37:11      603   2015-02-28      US  \n",
       "8802    2015-03-01     18:05:37     5659   2015-02-28      IT  \n",
       "5425    2015-03-02     00:27:29     9099   2015-03-01      US  \n",
       "7287    2015-03-02     01:44:20     6066   2015-03-01      US  "
      ]
     },
     "execution_count": 5,
     "metadata": {},
     "output_type": "execute_result"
    }
   ],
   "source": [
    "data['session_id'] = data['session_id'].map(lambda x: x[0] if x[0]!=\"\" else np.NaN)\n",
    "data['session_date'] = data['unix_timestamp'].map(lambda x: datetime.utcfromtimestamp(x[0]).strftime('%Y-%m-%d') if x[0]!=\"\" else np.NaN)\n",
    "data['session_time'] = data['unix_timestamp'].map(lambda x: datetime.utcfromtimestamp(x[0]).strftime('%H:%M:%S') if x[0]!=\"\" else np.NaN)\n",
    "data['cities'] = data['cities'].map(lambda x: ''.join(x) if len(x)>0 else np.NaN)\n",
    "for col in ['user_id', 'joining_date', 'country']:\n",
    "    data[col] = data['user'].map(lambda x: x[0][0][col] if x[0][0][col]!=\"\" else np.NaN)\n",
    "data = data.drop(['user', 'unix_timestamp'], axis=1)\n",
    "data.sort_values(['session_date', 'session_time'], inplace=True)\n",
    "data.head(10)"
   ]
  },
  {
   "cell_type": "markdown",
   "metadata": {},
   "source": [
    "## Exploratory data analysis\n",
    "\n",
    "Before proceeding to answer the business questions, I do some preliminary exploration of the data in hand. <br>\n",
    "\n",
    "### *size and type of data*"
   ]
  },
  {
   "cell_type": "code",
   "execution_count": 6,
   "metadata": {},
   "outputs": [
    {
     "name": "stdout",
     "output_type": "stream",
     "text": [
      "size of the data is:  (20022, 7) \n",
      "\n",
      "<class 'pandas.core.frame.DataFrame'>\n",
      "Int64Index: 20022 entries, 12866 to 5649\n",
      "Data columns (total 7 columns):\n",
      " #   Column        Non-Null Count  Dtype \n",
      "---  ------        --------------  ----- \n",
      " 0   session_id    20022 non-null  object\n",
      " 1   cities        20022 non-null  object\n",
      " 2   session_date  20022 non-null  object\n",
      " 3   session_time  20022 non-null  object\n",
      " 4   user_id       20022 non-null  int64 \n",
      " 5   joining_date  20022 non-null  object\n",
      " 6   country       17202 non-null  object\n",
      "dtypes: int64(1), object(6)\n",
      "memory usage: 1.2+ MB\n"
     ]
    }
   ],
   "source": [
    "print(\"size of the data is: \", data.shape,\"\\n\")\n",
    "data.info()"
   ]
  },
  {
   "cell_type": "markdown",
   "metadata": {},
   "source": [
    "### *check if all session ids are unique*"
   ]
  },
  {
   "cell_type": "code",
   "execution_count": 7,
   "metadata": {},
   "outputs": [
    {
     "data": {
      "text/plain": [
       "True"
      ]
     },
     "execution_count": 7,
     "metadata": {},
     "output_type": "execute_result"
    }
   ],
   "source": [
    "len(data['session_id'].unique())==data.shape[0]"
   ]
  },
  {
   "cell_type": "markdown",
   "metadata": {},
   "source": [
    "No duplicate are found is session ids... Great!\n",
    "\n",
    "### *how about users?*"
   ]
  },
  {
   "cell_type": "code",
   "execution_count": 8,
   "metadata": {},
   "outputs": [
    {
     "name": "stdout",
     "output_type": "stream",
     "text": [
      "5777 unique users\n",
      "7 unique countries including 1 mystery country\n"
     ]
    }
   ],
   "source": [
    "print(f\"{len(data['user_id'].unique())} unique users\")\n",
    "print(f\"{len(data['country'].unique())} unique countries including 1 mystery country\")"
   ]
  },
  {
   "cell_type": "markdown",
   "metadata": {},
   "source": [
    "### *check for missing values*"
   ]
  },
  {
   "cell_type": "code",
   "execution_count": 9,
   "metadata": {},
   "outputs": [
    {
     "data": {
      "text/plain": [
       "session_id         0\n",
       "cities             0\n",
       "session_date       0\n",
       "session_time       0\n",
       "user_id            0\n",
       "joining_date       0\n",
       "country         2820\n",
       "dtype: int64"
      ]
     },
     "execution_count": 9,
     "metadata": {},
     "output_type": "execute_result"
    }
   ],
   "source": [
    "data.isna().sum()"
   ]
  },
  {
   "cell_type": "markdown",
   "metadata": {},
   "source": [
    "The field \"country\" has 2820 missing values. This is expected and related to question 1. So I'll leave it until then. No other missing values.. Great again!\n",
    "\n",
    "### *just curious to know how the number of cities in one search spread across various sessions*\n",
    "\n",
    "I want to know how large (in terms of number of cities being searched) a session can be? First I create the relevant column and then check unique value counts in this column."
   ]
  },
  {
   "cell_type": "code",
   "execution_count": 10,
   "metadata": {},
   "outputs": [
    {
     "data": {
      "text/plain": [
       "1     10671\n",
       "2      6906\n",
       "3      1619\n",
       "4       566\n",
       "5       178\n",
       "6        61\n",
       "7        16\n",
       "8         3\n",
       "11        1\n",
       "9         1\n",
       "Name: num_cities, dtype: int64"
      ]
     },
     "execution_count": 10,
     "metadata": {},
     "output_type": "execute_result"
    }
   ],
   "source": [
    "data['num_cities'] = data['cities'].map(lambda x: len(x.split(\",\")) if ~pd.isna(x) else np.NaN)\n",
    "data['num_cities'].value_counts()"
   ]
  },
  {
   "cell_type": "markdown",
   "metadata": {},
   "source": [
    "### *check the span of session_dates*"
   ]
  },
  {
   "cell_type": "code",
   "execution_count": 11,
   "metadata": {},
   "outputs": [
    {
     "name": "stdout",
     "output_type": "stream",
     "text": [
      "there are 217 session dates from 2015-02-28 to 2015-10-02\n"
     ]
    },
    {
     "data": {
      "text/plain": [
       "True"
      ]
     },
     "execution_count": 11,
     "metadata": {},
     "output_type": "execute_result"
    }
   ],
   "source": [
    "print(f\"there are {len(data['session_date'].unique())} session dates from {data['session_date'].min()} to {data['session_date'].max()}\")\n",
    "#check if the days are continous, i.e. there is no gap in the period\n",
    "len(data['session_date'].unique()) == (datetime.strptime(data['session_date'].max(), '%Y-%m-%d') - datetime.strptime(data['session_date'].min(), '%Y-%m-%d')).days+1"
   ]
  },
  {
   "cell_type": "markdown",
   "metadata": {},
   "source": [
    "So there are 217 consecutive days with no days missing in the middle."
   ]
  },
  {
   "cell_type": "markdown",
   "metadata": {},
   "source": [
    "# Q1\n",
    "\n",
    "#### 1- There was a bug in the code and one country didn't get logged. Can you guess which country? How?<br>\n",
    "\n",
    "First lets check how much of the data is missing:"
   ]
  },
  {
   "cell_type": "code",
   "execution_count": 12,
   "metadata": {},
   "outputs": [
    {
     "name": "stdout",
     "output_type": "stream",
     "text": [
      "14.08 percent of the data has missing countries\n"
     ]
    }
   ],
   "source": [
    "print(\"%5.2f percent of the data has missing countries\"%(data['country'].isna().sum()*100/len(data['country'])))"
   ]
  },
  {
   "cell_type": "markdown",
   "metadata": {},
   "source": [
    "More than 14% is is a considerable amount. I can think of a couple of potential ways to find out (or make a strong guess) of what the missing country could be?\n",
    "\n",
    "### First attempt/logic:\n",
    "\n",
    "I first check the \"user_id\" of the missing countries against non-missing countries to see if the same user_id might have been assinged to another country in another session."
   ]
  },
  {
   "cell_type": "code",
   "execution_count": 13,
   "metadata": {},
   "outputs": [
    {
     "data": {
      "text/plain": [
       "[]"
      ]
     },
     "execution_count": 13,
     "metadata": {},
     "output_type": "execute_result"
    }
   ],
   "source": [
    "list(set(data[data['country'].isna()]['user_id'].unique()) & set(data[~data['country'].isna()]['user_id'].unique()))"
   ]
  },
  {
   "cell_type": "markdown",
   "metadata": {},
   "source": [
    "Unlucky... There were no intersection between the users with missing country values and the ones with country values.\n",
    "\n",
    "### Second attempt/logic:\n",
    "\n",
    "Another way I can think of is to try to guess the missing country based on the hour of the session. I would guess depending on the time zone, there are certain times that are more likely for people to searh this travel website. Let's explore from that angle. \n",
    "\n",
    "I will first create required attribute (column) to be able to analyse the data."
   ]
  },
  {
   "cell_type": "code",
   "execution_count": 14,
   "metadata": {},
   "outputs": [
    {
     "data": {
      "text/html": [
       "<div>\n",
       "<style scoped>\n",
       "    .dataframe tbody tr th:only-of-type {\n",
       "        vertical-align: middle;\n",
       "    }\n",
       "\n",
       "    .dataframe tbody tr th {\n",
       "        vertical-align: top;\n",
       "    }\n",
       "\n",
       "    .dataframe thead th {\n",
       "        text-align: right;\n",
       "    }\n",
       "</style>\n",
       "<table border=\"1\" class=\"dataframe\">\n",
       "  <thead>\n",
       "    <tr style=\"text-align: right;\">\n",
       "      <th></th>\n",
       "      <th>session_id</th>\n",
       "      <th>cities</th>\n",
       "      <th>session_date</th>\n",
       "      <th>session_time</th>\n",
       "      <th>user_id</th>\n",
       "      <th>joining_date</th>\n",
       "      <th>country</th>\n",
       "      <th>num_cities</th>\n",
       "      <th>session_hour</th>\n",
       "    </tr>\n",
       "  </thead>\n",
       "  <tbody>\n",
       "    <tr>\n",
       "      <th>12866</th>\n",
       "      <td>I9A6XU2KX4QLY</td>\n",
       "      <td>Los Angeles CA</td>\n",
       "      <td>2015-02-28</td>\n",
       "      <td>03:40:35</td>\n",
       "      <td>7327</td>\n",
       "      <td>2015-02-28</td>\n",
       "      <td>unknown</td>\n",
       "      <td>1</td>\n",
       "      <td>3</td>\n",
       "    </tr>\n",
       "    <tr>\n",
       "      <th>3051</th>\n",
       "      <td>YAVR0T93L6Z6W</td>\n",
       "      <td>New York NY</td>\n",
       "      <td>2015-02-28</td>\n",
       "      <td>15:30:16</td>\n",
       "      <td>9713</td>\n",
       "      <td>2015-02-28</td>\n",
       "      <td>US</td>\n",
       "      <td>1</td>\n",
       "      <td>15</td>\n",
       "    </tr>\n",
       "    <tr>\n",
       "      <th>5999</th>\n",
       "      <td>DRAR5CK2PVT7J</td>\n",
       "      <td>New York NY</td>\n",
       "      <td>2015-03-01</td>\n",
       "      <td>03:33:58</td>\n",
       "      <td>5005</td>\n",
       "      <td>2015-02-28</td>\n",
       "      <td>IT</td>\n",
       "      <td>1</td>\n",
       "      <td>3</td>\n",
       "    </tr>\n",
       "    <tr>\n",
       "      <th>7401</th>\n",
       "      <td>2TO9HMQEK5D9M</td>\n",
       "      <td>Los Angeles CA, Anaheim CA, Santa Ana CA, Long...</td>\n",
       "      <td>2015-03-01</td>\n",
       "      <td>11:36:11</td>\n",
       "      <td>1942</td>\n",
       "      <td>2015-03-01</td>\n",
       "      <td>ES</td>\n",
       "      <td>4</td>\n",
       "      <td>11</td>\n",
       "    </tr>\n",
       "    <tr>\n",
       "      <th>923</th>\n",
       "      <td>R3EW1FQVC7MQO</td>\n",
       "      <td>New York NY, Jersey City NJ</td>\n",
       "      <td>2015-03-01</td>\n",
       "      <td>12:33:50</td>\n",
       "      <td>6419</td>\n",
       "      <td>2015-03-01</td>\n",
       "      <td>DE</td>\n",
       "      <td>2</td>\n",
       "      <td>12</td>\n",
       "    </tr>\n",
       "  </tbody>\n",
       "</table>\n",
       "</div>"
      ],
      "text/plain": [
       "          session_id                                             cities  \\\n",
       "12866  I9A6XU2KX4QLY                                     Los Angeles CA   \n",
       "3051   YAVR0T93L6Z6W                                        New York NY   \n",
       "5999   DRAR5CK2PVT7J                                        New York NY   \n",
       "7401   2TO9HMQEK5D9M  Los Angeles CA, Anaheim CA, Santa Ana CA, Long...   \n",
       "923    R3EW1FQVC7MQO                        New York NY, Jersey City NJ   \n",
       "\n",
       "      session_date session_time  user_id joining_date  country  num_cities  \\\n",
       "12866   2015-02-28     03:40:35     7327   2015-02-28  unknown           1   \n",
       "3051    2015-02-28     15:30:16     9713   2015-02-28       US           1   \n",
       "5999    2015-03-01     03:33:58     5005   2015-02-28       IT           1   \n",
       "7401    2015-03-01     11:36:11     1942   2015-03-01       ES           4   \n",
       "923     2015-03-01     12:33:50     6419   2015-03-01       DE           2   \n",
       "\n",
       "       session_hour  \n",
       "12866             3  \n",
       "3051             15  \n",
       "5999              3  \n",
       "7401             11  \n",
       "923              12  "
      ]
     },
     "execution_count": 14,
     "metadata": {},
     "output_type": "execute_result"
    }
   ],
   "source": [
    "data['session_hour'] = data['session_time'].map(lambda x: int(str(x).split(\":\")[0]))\n",
    "data['country'].fillna('unknown', inplace=True) \n",
    "data.head()"
   ]
  },
  {
   "cell_type": "code",
   "execution_count": 15,
   "metadata": {},
   "outputs": [
    {
     "data": {
      "text/plain": [
       "<seaborn.axisgrid.FacetGrid at 0x2c26243e160>"
      ]
     },
     "execution_count": 15,
     "metadata": {},
     "output_type": "execute_result"
    },
    {
     "data": {
      "image/png": "[encoded data removed]",
      "text/plain": [
       "<Figure size 360x360 with 1 Axes>"
      ]
     },
     "metadata": {
      "needs_background": "light"
     },
     "output_type": "display_data"
    }
   ],
   "source": [
    "sns.catplot(x='country', y='session_hour', data=data, kind='violin')"
   ]
  },
  {
   "cell_type": "code",
   "execution_count": 16,
   "metadata": {},
   "outputs": [
    {
     "data": {
      "text/plain": [
       "country\n",
       "DE         11\n",
       "ES         11\n",
       "FR         11\n",
       "IT         11\n",
       "UK         12\n",
       "US         18\n",
       "unknown     7\n",
       "Name: session_hour, dtype: int64"
      ]
     },
     "execution_count": 16,
     "metadata": {},
     "output_type": "execute_result"
    }
   ],
   "source": [
    "data.groupby('country')['session_hour'].median()"
   ]
  },
  {
   "cell_type": "markdown",
   "metadata": {},
   "source": [
    "Nice results. There is no time difference between countries Denmark, Spain, France and Italy; they are all on +2UTC. The results above are consistent with this and my hypothesis kind of seems promising as certain times of the day are mosre likely for people from the same time zone to search the travel website. Plus, because the times I have created above in \"session_time\" are based on UTC time zone, so I can see that most popular time for sessions from these three countries are 1 pm local time (which is reasonable as this could be people searching the website in their lunch time break!). <br>\n",
    "\n",
    "Super interesting that 1 PM local time is consistent with what we see for UK as well, as UK is +1UTC. <br>\n",
    "What about US? It is more complicated for US as it has multiple time zones accross the country, from -4 to -10 UTC. From our data, the most likely UTC time for US is 18 (or 6pm). So for example, if I consider CDT, I will again get 1pm local (CDT) time.\n",
    "\n",
    "I also notice that looking at the span of session dates (in EDA section), the period is from very late Feb to very early oct, all in northern hemisphere. As such, I believe the effect of daylight savings are going to be minimal (if any), because I used the median of the times to make a decision, so I don't need to be careful about that.\n",
    "\n",
    "## Q1 answer:\n",
    "\n",
    "As such, I would bet my money on the best guess of 1pm local time. So giving a half an hour of error room either side, I can narrow down the search for the missing country to +5:30UTC to +6:30UTC time zones. Some countries in central Asia (Kazakhstan, Kyrgyzstan etc) or Indian penensiula (India, Bangladesh etc) are strong candidates for this. Given these sessions are for Amazon employees, I believe giving this narrow down to the travel provider can help them identify the exact country at once. "
   ]
  },
  {
   "cell_type": "markdown",
   "metadata": {},
   "source": [
    "# Q2\n",
    "\n",
    "#### 2- For each city, find the most likely city to be also searched for within the same session.\n",
    "\n",
    "### Solution logic:\n",
    "\n",
    "The logic I have to answer this question is to evaluate conditional probabilities. I define p(c2|c1) or probability of c1 given c1 as: given we know city c1 is search in a session, what is the probability of city c2 being searched in the same session? Then, for each city, I can choose the city with highest conditional probability as the answer to question 2. \n",
    "\n",
    "To go about this, I first obtain the list of all unique cities whose names are appeared in our dataset (in the all sessions)."
   ]
  },
  {
   "cell_type": "code",
   "execution_count": 17,
   "metadata": {},
   "outputs": [],
   "source": [
    "uniqueCities = []\n",
    "[uniqueCities.extend([c.strip() for c in x.split(',')]) for x in data['cities'].unique()]\n",
    "uniqueCities = list(set(uniqueCities))\n",
    "#uniqueCities"
   ]
  },
  {
   "cell_type": "markdown",
   "metadata": {},
   "source": [
    "Next, I create some helper functions to do the calculations I need. I know p(c2 given c1) = p(c2 AND c1) devided by p(c1). Because here the denominator to calculate both probabilities on the right hand side are the same (number of all sessions), then the right hand side can be simplified as:  p(c2 given c1) = number of sessions with both c2 AND c1 devided by number of session with c1. That is exactly how the below functions are written. "
   ]
  },
  {
   "cell_type": "code",
   "execution_count": 18,
   "metadata": {},
   "outputs": [],
   "source": [
    "def countRowsWithCities(x, y):\n",
    "    return data['cities'].map(lambda c: (x in c) and (y in c)).sum()\n",
    "\n",
    "def countRowsWithCity(x):\n",
    "    return data['cities'].map(lambda c: (x in c)).sum()\n",
    "\n",
    "def condProb(y, x):\n",
    "    if x == y: return 0.0\n",
    "    return float(countRowsWithCities(x, y)/countRowsWithCity(x))"
   ]
  },
  {
   "cell_type": "markdown",
   "metadata": {},
   "source": [
    "Now, I do this calculation all in a new dataframe. I first generate all possible double combinations of the unique cities apearing in our dataset (using itertools library). Then, to be easier to read the results, I create separate columns with first (c1) and second (c2) city in the combo and finally create a column with calculation of probability c2 given c1, using the functions defined above.   \n",
    "\n",
    "At last, I find the highest conditional probability for each city (c1) by grouping and aggregating (max) the data. At the end, I have the answer for question 2: For each city in column \"c1\", the most probable city to apear in the same session is given in the same row in column \"c2\" with the probability given in columns \"prob_c2_given_c1\". "
   ]
  },
  {
   "cell_type": "code",
   "execution_count": 19,
   "metadata": {},
   "outputs": [
    {
     "data": {
      "text/html": [
       "<div>\n",
       "<style scoped>\n",
       "    .dataframe tbody tr th:only-of-type {\n",
       "        vertical-align: middle;\n",
       "    }\n",
       "\n",
       "    .dataframe tbody tr th {\n",
       "        vertical-align: top;\n",
       "    }\n",
       "\n",
       "    .dataframe thead th {\n",
       "        text-align: right;\n",
       "    }\n",
       "</style>\n",
       "<table border=\"1\" class=\"dataframe\">\n",
       "  <thead>\n",
       "    <tr style=\"text-align: right;\">\n",
       "      <th></th>\n",
       "      <th>city_combos</th>\n",
       "      <th>c1</th>\n",
       "      <th>c2</th>\n",
       "      <th>prob_c2_given_c1</th>\n",
       "    </tr>\n",
       "  </thead>\n",
       "  <tbody>\n",
       "    <tr>\n",
       "      <th>0</th>\n",
       "      <td>(Cleveland OH, Dallas TX)</td>\n",
       "      <td>Cleveland OH</td>\n",
       "      <td>Dallas TX</td>\n",
       "      <td>0.00</td>\n",
       "    </tr>\n",
       "    <tr>\n",
       "      <th>1</th>\n",
       "      <td>(Cleveland OH, Philadelphia PA)</td>\n",
       "      <td>Cleveland OH</td>\n",
       "      <td>Philadelphia PA</td>\n",
       "      <td>0.00</td>\n",
       "    </tr>\n",
       "    <tr>\n",
       "      <th>2</th>\n",
       "      <td>(Cleveland OH, Oshawa ON)</td>\n",
       "      <td>Cleveland OH</td>\n",
       "      <td>Oshawa ON</td>\n",
       "      <td>0.02</td>\n",
       "    </tr>\n",
       "    <tr>\n",
       "      <th>3</th>\n",
       "      <td>(Cleveland OH, Vancouver BC)</td>\n",
       "      <td>Cleveland OH</td>\n",
       "      <td>Vancouver BC</td>\n",
       "      <td>0.00</td>\n",
       "    </tr>\n",
       "    <tr>\n",
       "      <th>4</th>\n",
       "      <td>(Cleveland OH, Scottsdale AZ)</td>\n",
       "      <td>Cleveland OH</td>\n",
       "      <td>Scottsdale AZ</td>\n",
       "      <td>0.00</td>\n",
       "    </tr>\n",
       "  </tbody>\n",
       "</table>\n",
       "</div>"
      ],
      "text/plain": [
       "                       city_combos            c1               c2  \\\n",
       "0        (Cleveland OH, Dallas TX)  Cleveland OH        Dallas TX   \n",
       "1  (Cleveland OH, Philadelphia PA)  Cleveland OH  Philadelphia PA   \n",
       "2        (Cleveland OH, Oshawa ON)  Cleveland OH        Oshawa ON   \n",
       "3     (Cleveland OH, Vancouver BC)  Cleveland OH     Vancouver BC   \n",
       "4    (Cleveland OH, Scottsdale AZ)  Cleveland OH    Scottsdale AZ   \n",
       "\n",
       "   prob_c2_given_c1  \n",
       "0              0.00  \n",
       "1              0.00  \n",
       "2              0.02  \n",
       "3              0.00  \n",
       "4              0.00  "
      ]
     },
     "execution_count": 19,
     "metadata": {},
     "output_type": "execute_result"
    }
   ],
   "source": [
    "associationDf = pd.DataFrame({'city_combos': itertools.combinations(uniqueCities, 2)})\n",
    "associationDf['c1'] = associationDf['city_combos'].map(lambda r: r[0])\n",
    "associationDf['c2'] = associationDf['city_combos'].map(lambda r: r[1])\n",
    "associationDf['prob_c2_given_c1'] = associationDf.apply(lambda r: condProb(r['c2'], r['c1']), axis=1)\n",
    "associationDf.head()"
   ]
  },
  {
   "cell_type": "markdown",
   "metadata": {},
   "source": [
    "I also write out the results in a csv file named \"ch3_q2_answer.csv\""
   ]
  },
  {
   "cell_type": "code",
   "execution_count": 20,
   "metadata": {},
   "outputs": [
    {
     "data": {
      "text/html": [
       "<div>\n",
       "<style scoped>\n",
       "    .dataframe tbody tr th:only-of-type {\n",
       "        vertical-align: middle;\n",
       "    }\n",
       "\n",
       "    .dataframe tbody tr th {\n",
       "        vertical-align: top;\n",
       "    }\n",
       "\n",
       "    .dataframe thead th {\n",
       "        text-align: right;\n",
       "    }\n",
       "</style>\n",
       "<table border=\"1\" class=\"dataframe\">\n",
       "  <thead>\n",
       "    <tr style=\"text-align: right;\">\n",
       "      <th></th>\n",
       "      <th>c1</th>\n",
       "      <th>c2</th>\n",
       "      <th>prob_c2_given_c1</th>\n",
       "    </tr>\n",
       "  </thead>\n",
       "  <tbody>\n",
       "    <tr>\n",
       "      <th>0</th>\n",
       "      <td>Anaheim CA</td>\n",
       "      <td>Windsor ON</td>\n",
       "      <td>0.748120</td>\n",
       "    </tr>\n",
       "    <tr>\n",
       "      <th>1</th>\n",
       "      <td>Arlington TX</td>\n",
       "      <td>Windsor ON</td>\n",
       "      <td>0.380531</td>\n",
       "    </tr>\n",
       "    <tr>\n",
       "      <th>2</th>\n",
       "      <td>Atlanta GA</td>\n",
       "      <td>Windsor ON</td>\n",
       "      <td>0.952381</td>\n",
       "    </tr>\n",
       "    <tr>\n",
       "      <th>3</th>\n",
       "      <td>Austin TX</td>\n",
       "      <td>Windsor ON</td>\n",
       "      <td>0.663866</td>\n",
       "    </tr>\n",
       "    <tr>\n",
       "      <th>4</th>\n",
       "      <td>Bakersfield CA</td>\n",
       "      <td>Windsor ON</td>\n",
       "      <td>0.282051</td>\n",
       "    </tr>\n",
       "    <tr>\n",
       "      <th>...</th>\n",
       "      <td>...</td>\n",
       "      <td>...</td>\n",
       "      <td>...</td>\n",
       "    </tr>\n",
       "    <tr>\n",
       "      <th>83</th>\n",
       "      <td>Victoria BC</td>\n",
       "      <td>Windsor ON</td>\n",
       "      <td>0.411168</td>\n",
       "    </tr>\n",
       "    <tr>\n",
       "      <th>84</th>\n",
       "      <td>Virginia Beach VA</td>\n",
       "      <td>Windsor ON</td>\n",
       "      <td>0.882353</td>\n",
       "    </tr>\n",
       "    <tr>\n",
       "      <th>85</th>\n",
       "      <td>WASHINGTON DC</td>\n",
       "      <td>Windsor ON</td>\n",
       "      <td>0.783133</td>\n",
       "    </tr>\n",
       "    <tr>\n",
       "      <th>86</th>\n",
       "      <td>Wichita KS</td>\n",
       "      <td>Windsor ON</td>\n",
       "      <td>1.000000</td>\n",
       "    </tr>\n",
       "    <tr>\n",
       "      <th>87</th>\n",
       "      <td>Windsor ON</td>\n",
       "      <td>Toledo OH</td>\n",
       "      <td>0.451220</td>\n",
       "    </tr>\n",
       "  </tbody>\n",
       "</table>\n",
       "<p>88 rows × 3 columns</p>\n",
       "</div>"
      ],
      "text/plain": [
       "                   c1          c2  prob_c2_given_c1\n",
       "0          Anaheim CA  Windsor ON          0.748120\n",
       "1        Arlington TX  Windsor ON          0.380531\n",
       "2          Atlanta GA  Windsor ON          0.952381\n",
       "3           Austin TX  Windsor ON          0.663866\n",
       "4      Bakersfield CA  Windsor ON          0.282051\n",
       "..                ...         ...               ...\n",
       "83        Victoria BC  Windsor ON          0.411168\n",
       "84  Virginia Beach VA  Windsor ON          0.882353\n",
       "85      WASHINGTON DC  Windsor ON          0.783133\n",
       "86         Wichita KS  Windsor ON          1.000000\n",
       "87         Windsor ON   Toledo OH          0.451220\n",
       "\n",
       "[88 rows x 3 columns]"
      ]
     },
     "execution_count": 20,
     "metadata": {},
     "output_type": "execute_result"
    }
   ],
   "source": [
    "res = associationDf.groupby('c1').max().reset_index().drop(['city_combos'], axis=1)\n",
    "res.to_csv(\"q2_answer.csv\", index=False)\n",
    "res"
   ]
  },
  {
   "cell_type": "markdown",
   "metadata": {},
   "source": [
    "# Q3\n",
    "\n",
    "#### 3- Travel sites are browsed by two kinds of users. Users who are actually planning a trip and users who just dream about a   vacation. The first group obviously has a much higher purchasing intent. Users planning a trip often search for cities close to each other, while users who search for cities far away from each other are often just dreaming about a vacation (or a great work trip!). Based on this idea, come up with an algorithm that clusters sessions into two groups: high intent and low intent.\n",
    "\n",
    "### Solution logic:\n",
    "\n",
    "The algorithm I would suggest for this question is to first calculate the average distance between the cities searched in one sessions. For that, I will first get coordinates for each city name using the geocoder provided by Nominatim through geopy. Because the logic for clustering here is based on the distance between the cities that are search in one session, I will use the distance calculation provided by geopy libary as well (using geodesic calculation) to calculate distances between each two set of coordinates (i.e. between each pari of cities). For collection of cities in each session, I then calculate the average and standard deviation of distances to get a better idea of the type of search the user had during that session. Finally, I need to decide how to define \"far\" vs \"close\", as described in the business question. While there are other ways to do so, I use kmeans clustering to cluster the data based on these two attributes to cluster the data.\n",
    "\n",
    "First, as the connection to Nominatim can be flaky sometimes, I create a dataframe including unique cities in our dataset and corresponding coordinate. I write it to csv in case I need to reuse it and conection is problematic. Finally, it is easier to use a dictinary for mapping, hence I create a dictinary with keys as city names and values as coordinate pair (lat, long). "
   ]
  },
  {
   "cell_type": "code",
   "execution_count": 21,
   "metadata": {},
   "outputs": [],
   "source": [
    "from geopy.geocoders import Nominatim\n",
    "geolocator = Nominatim()  #use the Nominatim API\n",
    "coordsDf = pd.DataFrame()\n",
    "\n",
    "#first time to run on new cities, run this code, otherwise can read from the csv file:\n",
    "\n",
    "#coordsDf['city'] = uniqueCities \n",
    "\n",
    "#use geolocator to get lat and long for each city name\n",
    "#coordsDf['coordinate'] = coordsDf['city'].map(lambda c: (geolocator.geocode(c).latitude, geolocator.geocode(c).longitude))\n",
    "\n",
    "#coordsDf.to_csv(\"../data/city_coordinates.csv\", index=False) #write to csv just in case"
   ]
  },
  {
   "cell_type": "code",
   "execution_count": 22,
   "metadata": {},
   "outputs": [],
   "source": [
    "coordsDf = pd.read_csv(\"city_coordinates.csv\")\n",
    "coordinateMap = dict(zip(coordsDf['city'], coordsDf['coordinate']))  #create dictionary map"
   ]
  },
  {
   "cell_type": "markdown",
   "metadata": {},
   "source": [
    "next are some helper functions:"
   ]
  },
  {
   "cell_type": "code",
   "execution_count": 23,
   "metadata": {},
   "outputs": [],
   "source": [
    "import itertools\n",
    "import geopy.distance\n",
    "\n",
    "def getCoordinatesForCities(st):   #gets the cities string delimited by \",\" and returns list of coordinates, one for each city\n",
    "    cities = [x.strip() for x in st.split(',')] #get list of city names\n",
    "    return [coordinateMap[city] for city in cities] #get list of coordinates using the map created above\n",
    "\n",
    "def getDistances(coords): #gets list of coordinates and returns distance between each two coordinate pairs\n",
    "    distances = []\n",
    "    for coordCombo in itertools.combinations(coords, 2): #for each pair of coordinate pairs (cities)\n",
    "        distances.append(geopy.distance.geodesic(coordCombo[0], coordCombo[1]).km) #calculate the distance between two coordinates\n",
    "    return distances"
   ]
  },
  {
   "cell_type": "markdown",
   "metadata": {},
   "source": [
    "Now using the helper function above, I create the coordinates column, one coordinate pair for each city name."
   ]
  },
  {
   "cell_type": "code",
   "execution_count": 24,
   "metadata": {},
   "outputs": [
    {
     "data": {
      "text/html": [
       "<div>\n",
       "<style scoped>\n",
       "    .dataframe tbody tr th:only-of-type {\n",
       "        vertical-align: middle;\n",
       "    }\n",
       "\n",
       "    .dataframe tbody tr th {\n",
       "        vertical-align: top;\n",
       "    }\n",
       "\n",
       "    .dataframe thead th {\n",
       "        text-align: right;\n",
       "    }\n",
       "</style>\n",
       "<table border=\"1\" class=\"dataframe\">\n",
       "  <thead>\n",
       "    <tr style=\"text-align: right;\">\n",
       "      <th></th>\n",
       "      <th>session_id</th>\n",
       "      <th>cities</th>\n",
       "      <th>session_date</th>\n",
       "      <th>session_time</th>\n",
       "      <th>user_id</th>\n",
       "      <th>joining_date</th>\n",
       "      <th>country</th>\n",
       "      <th>num_cities</th>\n",
       "      <th>session_hour</th>\n",
       "      <th>coordinates</th>\n",
       "    </tr>\n",
       "  </thead>\n",
       "  <tbody>\n",
       "    <tr>\n",
       "      <th>12866</th>\n",
       "      <td>I9A6XU2KX4QLY</td>\n",
       "      <td>Los Angeles CA</td>\n",
       "      <td>2015-02-28</td>\n",
       "      <td>03:40:35</td>\n",
       "      <td>7327</td>\n",
       "      <td>2015-02-28</td>\n",
       "      <td>unknown</td>\n",
       "      <td>1</td>\n",
       "      <td>3</td>\n",
       "      <td>[34.0536909, -118.2427666]</td>\n",
       "    </tr>\n",
       "    <tr>\n",
       "      <th>3051</th>\n",
       "      <td>YAVR0T93L6Z6W</td>\n",
       "      <td>New York NY</td>\n",
       "      <td>2015-02-28</td>\n",
       "      <td>15:30:16</td>\n",
       "      <td>9713</td>\n",
       "      <td>2015-02-28</td>\n",
       "      <td>US</td>\n",
       "      <td>1</td>\n",
       "      <td>15</td>\n",
       "      <td>[40.7127281, -74.0060152]</td>\n",
       "    </tr>\n",
       "    <tr>\n",
       "      <th>5999</th>\n",
       "      <td>DRAR5CK2PVT7J</td>\n",
       "      <td>New York NY</td>\n",
       "      <td>2015-03-01</td>\n",
       "      <td>03:33:58</td>\n",
       "      <td>5005</td>\n",
       "      <td>2015-02-28</td>\n",
       "      <td>IT</td>\n",
       "      <td>1</td>\n",
       "      <td>3</td>\n",
       "      <td>[40.7127281, -74.0060152]</td>\n",
       "    </tr>\n",
       "    <tr>\n",
       "      <th>7401</th>\n",
       "      <td>2TO9HMQEK5D9M</td>\n",
       "      <td>Los Angeles CA, Anaheim CA, Santa Ana CA, Long...</td>\n",
       "      <td>2015-03-01</td>\n",
       "      <td>11:36:11</td>\n",
       "      <td>1942</td>\n",
       "      <td>2015-03-01</td>\n",
       "      <td>ES</td>\n",
       "      <td>4</td>\n",
       "      <td>11</td>\n",
       "      <td>[34.0536909, -118.2427666, 33.8347516, -117.91...</td>\n",
       "    </tr>\n",
       "    <tr>\n",
       "      <th>923</th>\n",
       "      <td>R3EW1FQVC7MQO</td>\n",
       "      <td>New York NY, Jersey City NJ</td>\n",
       "      <td>2015-03-01</td>\n",
       "      <td>12:33:50</td>\n",
       "      <td>6419</td>\n",
       "      <td>2015-03-01</td>\n",
       "      <td>DE</td>\n",
       "      <td>2</td>\n",
       "      <td>12</td>\n",
       "      <td>[40.7127281, -74.0060152, 40.7281575, -74.0776...</td>\n",
       "    </tr>\n",
       "  </tbody>\n",
       "</table>\n",
       "</div>"
      ],
      "text/plain": [
       "          session_id                                             cities  \\\n",
       "12866  I9A6XU2KX4QLY                                     Los Angeles CA   \n",
       "3051   YAVR0T93L6Z6W                                        New York NY   \n",
       "5999   DRAR5CK2PVT7J                                        New York NY   \n",
       "7401   2TO9HMQEK5D9M  Los Angeles CA, Anaheim CA, Santa Ana CA, Long...   \n",
       "923    R3EW1FQVC7MQO                        New York NY, Jersey City NJ   \n",
       "\n",
       "      session_date session_time  user_id joining_date  country  num_cities  \\\n",
       "12866   2015-02-28     03:40:35     7327   2015-02-28  unknown           1   \n",
       "3051    2015-02-28     15:30:16     9713   2015-02-28       US           1   \n",
       "5999    2015-03-01     03:33:58     5005   2015-02-28       IT           1   \n",
       "7401    2015-03-01     11:36:11     1942   2015-03-01       ES           4   \n",
       "923     2015-03-01     12:33:50     6419   2015-03-01       DE           2   \n",
       "\n",
       "       session_hour                                        coordinates  \n",
       "12866             3                         [34.0536909, -118.2427666]  \n",
       "3051             15                          [40.7127281, -74.0060152]  \n",
       "5999              3                          [40.7127281, -74.0060152]  \n",
       "7401             11  [34.0536909, -118.2427666, 33.8347516, -117.91...  \n",
       "923              12  [40.7127281, -74.0060152, 40.7281575, -74.0776...  "
      ]
     },
     "execution_count": 24,
     "metadata": {},
     "output_type": "execute_result"
    }
   ],
   "source": [
    "data['coordinates'] = data['cities'].map(getCoordinatesForCities)  #create coordinates column\n",
    "data.head() "
   ]
  },
  {
   "cell_type": "markdown",
   "metadata": {},
   "source": [
    "Using the \"coordinates\" column, now I calculate the list of distances in the \"distances\" column. \n",
    "\n",
    "After that, using this newly created column, I calculate the average and standard deviation of distances in separate columns. I use standard deviation to be able to better compare the variance of distances accross various sessions. Note here that I will put 0.0 (for both mean and std) when there is only one city search, hence the list of distances is empty. "
   ]
  },
  {
   "cell_type": "code",
   "execution_count": 25,
   "metadata": {},
   "outputs": [
    {
     "data": {
      "text/html": [
       "<div>\n",
       "<style scoped>\n",
       "    .dataframe tbody tr th:only-of-type {\n",
       "        vertical-align: middle;\n",
       "    }\n",
       "\n",
       "    .dataframe tbody tr th {\n",
       "        vertical-align: top;\n",
       "    }\n",
       "\n",
       "    .dataframe thead th {\n",
       "        text-align: right;\n",
       "    }\n",
       "</style>\n",
       "<table border=\"1\" class=\"dataframe\">\n",
       "  <thead>\n",
       "    <tr style=\"text-align: right;\">\n",
       "      <th></th>\n",
       "      <th>session_id</th>\n",
       "      <th>cities</th>\n",
       "      <th>session_date</th>\n",
       "      <th>session_time</th>\n",
       "      <th>user_id</th>\n",
       "      <th>joining_date</th>\n",
       "      <th>country</th>\n",
       "      <th>num_cities</th>\n",
       "      <th>session_hour</th>\n",
       "      <th>coordinates</th>\n",
       "      <th>distances</th>\n",
       "      <th>avg_distance</th>\n",
       "      <th>std_distance</th>\n",
       "    </tr>\n",
       "  </thead>\n",
       "  <tbody>\n",
       "    <tr>\n",
       "      <th>12866</th>\n",
       "      <td>I9A6XU2KX4QLY</td>\n",
       "      <td>Los Angeles CA</td>\n",
       "      <td>2015-02-28</td>\n",
       "      <td>03:40:35</td>\n",
       "      <td>7327</td>\n",
       "      <td>2015-02-28</td>\n",
       "      <td>unknown</td>\n",
       "      <td>1</td>\n",
       "      <td>3</td>\n",
       "      <td>[34.0536909, -118.2427666]</td>\n",
       "      <td>[]</td>\n",
       "      <td>0.000000</td>\n",
       "      <td>0.00000</td>\n",
       "    </tr>\n",
       "    <tr>\n",
       "      <th>3051</th>\n",
       "      <td>YAVR0T93L6Z6W</td>\n",
       "      <td>New York NY</td>\n",
       "      <td>2015-02-28</td>\n",
       "      <td>15:30:16</td>\n",
       "      <td>9713</td>\n",
       "      <td>2015-02-28</td>\n",
       "      <td>US</td>\n",
       "      <td>1</td>\n",
       "      <td>15</td>\n",
       "      <td>[40.7127281, -74.0060152]</td>\n",
       "      <td>[]</td>\n",
       "      <td>0.000000</td>\n",
       "      <td>0.00000</td>\n",
       "    </tr>\n",
       "    <tr>\n",
       "      <th>5999</th>\n",
       "      <td>DRAR5CK2PVT7J</td>\n",
       "      <td>New York NY</td>\n",
       "      <td>2015-03-01</td>\n",
       "      <td>03:33:58</td>\n",
       "      <td>5005</td>\n",
       "      <td>2015-02-28</td>\n",
       "      <td>IT</td>\n",
       "      <td>1</td>\n",
       "      <td>3</td>\n",
       "      <td>[40.7127281, -74.0060152]</td>\n",
       "      <td>[]</td>\n",
       "      <td>0.000000</td>\n",
       "      <td>0.00000</td>\n",
       "    </tr>\n",
       "    <tr>\n",
       "      <th>7401</th>\n",
       "      <td>2TO9HMQEK5D9M</td>\n",
       "      <td>Los Angeles CA, Anaheim CA, Santa Ana CA, Long...</td>\n",
       "      <td>2015-03-01</td>\n",
       "      <td>11:36:11</td>\n",
       "      <td>1942</td>\n",
       "      <td>2015-03-01</td>\n",
       "      <td>ES</td>\n",
       "      <td>4</td>\n",
       "      <td>11</td>\n",
       "      <td>[34.0536909, -118.2427666, 33.8347516, -117.91...</td>\n",
       "      <td>[39.06757347312749, 48.02850621465514, 5466.04...</td>\n",
       "      <td>2746.408574</td>\n",
       "      <td>2714.03335</td>\n",
       "    </tr>\n",
       "    <tr>\n",
       "      <th>923</th>\n",
       "      <td>R3EW1FQVC7MQO</td>\n",
       "      <td>New York NY, Jersey City NJ</td>\n",
       "      <td>2015-03-01</td>\n",
       "      <td>12:33:50</td>\n",
       "      <td>6419</td>\n",
       "      <td>2015-03-01</td>\n",
       "      <td>DE</td>\n",
       "      <td>2</td>\n",
       "      <td>12</td>\n",
       "      <td>[40.7127281, -74.0060152, 40.7281575, -74.0776...</td>\n",
       "      <td>[6.2895817337946]</td>\n",
       "      <td>6.289582</td>\n",
       "      <td>0.00000</td>\n",
       "    </tr>\n",
       "  </tbody>\n",
       "</table>\n",
       "</div>"
      ],
      "text/plain": [
       "          session_id                                             cities  \\\n",
       "12866  I9A6XU2KX4QLY                                     Los Angeles CA   \n",
       "3051   YAVR0T93L6Z6W                                        New York NY   \n",
       "5999   DRAR5CK2PVT7J                                        New York NY   \n",
       "7401   2TO9HMQEK5D9M  Los Angeles CA, Anaheim CA, Santa Ana CA, Long...   \n",
       "923    R3EW1FQVC7MQO                        New York NY, Jersey City NJ   \n",
       "\n",
       "      session_date session_time  user_id joining_date  country  num_cities  \\\n",
       "12866   2015-02-28     03:40:35     7327   2015-02-28  unknown           1   \n",
       "3051    2015-02-28     15:30:16     9713   2015-02-28       US           1   \n",
       "5999    2015-03-01     03:33:58     5005   2015-02-28       IT           1   \n",
       "7401    2015-03-01     11:36:11     1942   2015-03-01       ES           4   \n",
       "923     2015-03-01     12:33:50     6419   2015-03-01       DE           2   \n",
       "\n",
       "       session_hour                                        coordinates  \\\n",
       "12866             3                         [34.0536909, -118.2427666]   \n",
       "3051             15                          [40.7127281, -74.0060152]   \n",
       "5999              3                          [40.7127281, -74.0060152]   \n",
       "7401             11  [34.0536909, -118.2427666, 33.8347516, -117.91...   \n",
       "923              12  [40.7127281, -74.0060152, 40.7281575, -74.0776...   \n",
       "\n",
       "                                               distances  avg_distance  \\\n",
       "12866                                                 []      0.000000   \n",
       "3051                                                  []      0.000000   \n",
       "5999                                                  []      0.000000   \n",
       "7401   [39.06757347312749, 48.02850621465514, 5466.04...   2746.408574   \n",
       "923                                    [6.2895817337946]      6.289582   \n",
       "\n",
       "       std_distance  \n",
       "12866       0.00000  \n",
       "3051        0.00000  \n",
       "5999        0.00000  \n",
       "7401     2714.03335  \n",
       "923         0.00000  "
      ]
     },
     "execution_count": 25,
     "metadata": {},
     "output_type": "execute_result"
    }
   ],
   "source": [
    "data['distances'] = data['coordinates'].map(getDistances)   #create list of distances for each session in a separate column\n",
    "data['avg_distance'] = data['distances'].map(lambda x: np.mean(x) if len(x)>0 else 0.0)  #get average of distances\n",
    "data['std_distance'] = data['distances'].map(lambda x: np.std(x) if len(x)>0 else 0.0)  #get std of distances\n",
    "data.head()"
   ]
  },
  {
   "cell_type": "markdown",
   "metadata": {},
   "source": [
    "Did I get any missing values? Looks like the naswer is no."
   ]
  },
  {
   "cell_type": "code",
   "execution_count": 26,
   "metadata": {},
   "outputs": [
    {
     "data": {
      "text/plain": [
       "session_id      0\n",
       "cities          0\n",
       "session_date    0\n",
       "session_time    0\n",
       "user_id         0\n",
       "joining_date    0\n",
       "country         0\n",
       "num_cities      0\n",
       "session_hour    0\n",
       "coordinates     0\n",
       "distances       0\n",
       "avg_distance    0\n",
       "std_distance    0\n",
       "dtype: int64"
      ]
     },
     "execution_count": 26,
     "metadata": {},
     "output_type": "execute_result"
    }
   ],
   "source": [
    "data.isna().sum()"
   ]
  },
  {
   "cell_type": "markdown",
   "metadata": {},
   "source": [
    "For the case of average = 0.0 (which force std = 0.0 as well), which means only one city is searched, I will label that as \"high intent\" based on the given logic by the business. \n",
    "\n",
    "Let's have a look at the distribution of non-zero mean and std values. "
   ]
  },
  {
   "cell_type": "code",
   "execution_count": 27,
   "metadata": {},
   "outputs": [
    {
     "data": {
      "text/html": [
       "<div>\n",
       "<style scoped>\n",
       "    .dataframe tbody tr th:only-of-type {\n",
       "        vertical-align: middle;\n",
       "    }\n",
       "\n",
       "    .dataframe tbody tr th {\n",
       "        vertical-align: top;\n",
       "    }\n",
       "\n",
       "    .dataframe thead th {\n",
       "        text-align: right;\n",
       "    }\n",
       "</style>\n",
       "<table border=\"1\" class=\"dataframe\">\n",
       "  <thead>\n",
       "    <tr style=\"text-align: right;\">\n",
       "      <th></th>\n",
       "      <th>avg_distance</th>\n",
       "      <th>std_distance</th>\n",
       "    </tr>\n",
       "  </thead>\n",
       "  <tbody>\n",
       "    <tr>\n",
       "      <th>count</th>\n",
       "      <td>9351.000000</td>\n",
       "      <td>9351.000000</td>\n",
       "    </tr>\n",
       "    <tr>\n",
       "      <th>mean</th>\n",
       "      <td>1239.242748</td>\n",
       "      <td>106.641800</td>\n",
       "    </tr>\n",
       "    <tr>\n",
       "      <th>std</th>\n",
       "      <td>1412.597144</td>\n",
       "      <td>389.604294</td>\n",
       "    </tr>\n",
       "    <tr>\n",
       "      <th>min</th>\n",
       "      <td>1.855839</td>\n",
       "      <td>0.000000</td>\n",
       "    </tr>\n",
       "    <tr>\n",
       "      <th>25%</th>\n",
       "      <td>159.873901</td>\n",
       "      <td>0.000000</td>\n",
       "    </tr>\n",
       "    <tr>\n",
       "      <th>50%</th>\n",
       "      <td>532.504649</td>\n",
       "      <td>0.000000</td>\n",
       "    </tr>\n",
       "    <tr>\n",
       "      <th>75%</th>\n",
       "      <td>2283.473189</td>\n",
       "      <td>3.430049</td>\n",
       "    </tr>\n",
       "    <tr>\n",
       "      <th>max</th>\n",
       "      <td>5475.882539</td>\n",
       "      <td>2714.033350</td>\n",
       "    </tr>\n",
       "  </tbody>\n",
       "</table>\n",
       "</div>"
      ],
      "text/plain": [
       "       avg_distance  std_distance\n",
       "count   9351.000000   9351.000000\n",
       "mean    1239.242748    106.641800\n",
       "std     1412.597144    389.604294\n",
       "min        1.855839      0.000000\n",
       "25%      159.873901      0.000000\n",
       "50%      532.504649      0.000000\n",
       "75%     2283.473189      3.430049\n",
       "max     5475.882539   2714.033350"
      ]
     },
     "execution_count": 27,
     "metadata": {},
     "output_type": "execute_result"
    }
   ],
   "source": [
    "data[data['avg_distance']>0][['avg_distance', 'std_distance']].describe()"
   ]
  },
  {
   "cell_type": "code",
   "execution_count": 28,
   "metadata": {},
   "outputs": [
    {
     "data": {
      "text/plain": [
       "<matplotlib.collections.PathCollection at 0x2c262bef6a0>"
      ]
     },
     "execution_count": 28,
     "metadata": {},
     "output_type": "execute_result"
    },
    {
     "data": {
      "image/png": "[encoded data removed]",
      "text/plain": [
       "<Figure size 720x720 with 1 Axes>"
      ]
     },
     "metadata": {
      "needs_background": "light"
     },
     "output_type": "display_data"
    }
   ],
   "source": [
    "plt.figure(figsize=(10,10))\n",
    "plt.scatter(data[data['avg_distance']>0]['avg_distance'], data[data['avg_distance']>0]['std_distance'])"
   ]
  },
  {
   "cell_type": "markdown",
   "metadata": {},
   "source": [
    "The question to answer now is what is \"far away\" and \"close\" as mentioned in the business question? How to define them? These qualitative measures need to be translated into quantitative metrics. One way to do so is to get the business to specify some tolerances on mean and/or standard deviation attributes. A yet more efficient way is to analyse the history data including whether or not a session resulted in a booking/purchase, and analyse the relation between these attributes and likelihood of booking. In the absence of this data, and with not much of business context, I decide to choose the criteria based on the data in hand. A technique that can help me is kmean clustering. Kmeans will automatically cluster the data in a way to minimise the within-cluster variances (gives a good separation of data given the attributes). This way, I don't need to explicitly specify tolerances.  \n",
    "\n",
    "Now I use kmean clustering from sklearn library to cluster my datapoints based on mean and std values into two clusters. \n",
    "\n",
    "A few notes on use of kmeans:\n",
    "\n",
    "1- as clustering is sensetive to magnitude of datapoints, I first scale all values to interval [0, 1] using MinMaxScaler from sklearn. \n",
    "\n",
    "2- For kmean, I use k-mean++ for initialisation, which give a more robust initialisation that guarantees to find a solution that is O(log k) competitive to the optimal k-means solution. "
   ]
  },
  {
   "cell_type": "code",
   "execution_count": 29,
   "metadata": {},
   "outputs": [
    {
     "data": {
      "text/plain": [
       "Text(0, 0.5, 'Std. distances')"
      ]
     },
     "execution_count": 29,
     "metadata": {},
     "output_type": "execute_result"
    },
    {
     "data": {
      "image/png": "[encoded data removed]",
      "text/plain": [
       "<Figure size 576x576 with 1 Axes>"
      ]
     },
     "metadata": {
      "needs_background": "light"
     },
     "output_type": "display_data"
    }
   ],
   "source": [
    "from sklearn.cluster import KMeans\n",
    "from sklearn.preprocessing import MinMaxScaler\n",
    "\n",
    "x = data[['avg_distance', 'std_distance']].values  #getting the datapoints (only mean and std values)\n",
    "sc = MinMaxScaler()\n",
    "x_sc = sc.fit_transform(x)     #min max scaling of data values\n",
    "\n",
    "#fitting a kmeans object with 2 clusters and kmean++ initialisation\n",
    "y_pred = KMeans(n_clusters=2, init='k-means++', random_state=0).fit_predict(x_sc)  \n",
    "\n",
    "#plotting the results\n",
    "plt.figure(figsize=(8,8))\n",
    "plt.scatter(x[:, 0], x[:, 1], c=y_pred)\n",
    "plt.xlabel(\"Avg. distances\")\n",
    "plt.ylabel(\"Std. distances\")"
   ]
  },
  {
   "cell_type": "markdown",
   "metadata": {},
   "source": [
    "Now I add the labels created by kmeans to the dataset in a new column called \"intent\" and will then write out the results in a csv file named \"ch3_q3_answer.csv\". "
   ]
  },
  {
   "cell_type": "code",
   "execution_count": 30,
   "metadata": {},
   "outputs": [
    {
     "data": {
      "text/html": [
       "<div>\n",
       "<style scoped>\n",
       "    .dataframe tbody tr th:only-of-type {\n",
       "        vertical-align: middle;\n",
       "    }\n",
       "\n",
       "    .dataframe tbody tr th {\n",
       "        vertical-align: top;\n",
       "    }\n",
       "\n",
       "    .dataframe thead th {\n",
       "        text-align: right;\n",
       "    }\n",
       "</style>\n",
       "<table border=\"1\" class=\"dataframe\">\n",
       "  <thead>\n",
       "    <tr style=\"text-align: right;\">\n",
       "      <th></th>\n",
       "      <th>session_id</th>\n",
       "      <th>cities</th>\n",
       "      <th>session_date</th>\n",
       "      <th>session_time</th>\n",
       "      <th>user_id</th>\n",
       "      <th>joining_date</th>\n",
       "      <th>country</th>\n",
       "      <th>num_cities</th>\n",
       "      <th>session_hour</th>\n",
       "      <th>coordinates</th>\n",
       "      <th>distances</th>\n",
       "      <th>avg_distance</th>\n",
       "      <th>std_distance</th>\n",
       "      <th>intent</th>\n",
       "    </tr>\n",
       "  </thead>\n",
       "  <tbody>\n",
       "    <tr>\n",
       "      <th>12866</th>\n",
       "      <td>I9A6XU2KX4QLY</td>\n",
       "      <td>Los Angeles CA</td>\n",
       "      <td>2015-02-28</td>\n",
       "      <td>03:40:35</td>\n",
       "      <td>7327</td>\n",
       "      <td>2015-02-28</td>\n",
       "      <td>unknown</td>\n",
       "      <td>1</td>\n",
       "      <td>3</td>\n",
       "      <td>[34.0536909, -118.2427666]</td>\n",
       "      <td>[]</td>\n",
       "      <td>0.000000</td>\n",
       "      <td>0.00000</td>\n",
       "      <td>high</td>\n",
       "    </tr>\n",
       "    <tr>\n",
       "      <th>3051</th>\n",
       "      <td>YAVR0T93L6Z6W</td>\n",
       "      <td>New York NY</td>\n",
       "      <td>2015-02-28</td>\n",
       "      <td>15:30:16</td>\n",
       "      <td>9713</td>\n",
       "      <td>2015-02-28</td>\n",
       "      <td>US</td>\n",
       "      <td>1</td>\n",
       "      <td>15</td>\n",
       "      <td>[40.7127281, -74.0060152]</td>\n",
       "      <td>[]</td>\n",
       "      <td>0.000000</td>\n",
       "      <td>0.00000</td>\n",
       "      <td>high</td>\n",
       "    </tr>\n",
       "    <tr>\n",
       "      <th>5999</th>\n",
       "      <td>DRAR5CK2PVT7J</td>\n",
       "      <td>New York NY</td>\n",
       "      <td>2015-03-01</td>\n",
       "      <td>03:33:58</td>\n",
       "      <td>5005</td>\n",
       "      <td>2015-02-28</td>\n",
       "      <td>IT</td>\n",
       "      <td>1</td>\n",
       "      <td>3</td>\n",
       "      <td>[40.7127281, -74.0060152]</td>\n",
       "      <td>[]</td>\n",
       "      <td>0.000000</td>\n",
       "      <td>0.00000</td>\n",
       "      <td>high</td>\n",
       "    </tr>\n",
       "    <tr>\n",
       "      <th>7401</th>\n",
       "      <td>2TO9HMQEK5D9M</td>\n",
       "      <td>Los Angeles CA, Anaheim CA, Santa Ana CA, Long...</td>\n",
       "      <td>2015-03-01</td>\n",
       "      <td>11:36:11</td>\n",
       "      <td>1942</td>\n",
       "      <td>2015-03-01</td>\n",
       "      <td>ES</td>\n",
       "      <td>4</td>\n",
       "      <td>11</td>\n",
       "      <td>[34.0536909, -118.2427666, 33.8347516, -117.91...</td>\n",
       "      <td>[39.06757347312749, 48.02850621465514, 5466.04...</td>\n",
       "      <td>2746.408574</td>\n",
       "      <td>2714.03335</td>\n",
       "      <td>low</td>\n",
       "    </tr>\n",
       "    <tr>\n",
       "      <th>923</th>\n",
       "      <td>R3EW1FQVC7MQO</td>\n",
       "      <td>New York NY, Jersey City NJ</td>\n",
       "      <td>2015-03-01</td>\n",
       "      <td>12:33:50</td>\n",
       "      <td>6419</td>\n",
       "      <td>2015-03-01</td>\n",
       "      <td>DE</td>\n",
       "      <td>2</td>\n",
       "      <td>12</td>\n",
       "      <td>[40.7127281, -74.0060152, 40.7281575, -74.0776...</td>\n",
       "      <td>[6.2895817337946]</td>\n",
       "      <td>6.289582</td>\n",
       "      <td>0.00000</td>\n",
       "      <td>high</td>\n",
       "    </tr>\n",
       "  </tbody>\n",
       "</table>\n",
       "</div>"
      ],
      "text/plain": [
       "          session_id                                             cities  \\\n",
       "12866  I9A6XU2KX4QLY                                     Los Angeles CA   \n",
       "3051   YAVR0T93L6Z6W                                        New York NY   \n",
       "5999   DRAR5CK2PVT7J                                        New York NY   \n",
       "7401   2TO9HMQEK5D9M  Los Angeles CA, Anaheim CA, Santa Ana CA, Long...   \n",
       "923    R3EW1FQVC7MQO                        New York NY, Jersey City NJ   \n",
       "\n",
       "      session_date session_time  user_id joining_date  country  num_cities  \\\n",
       "12866   2015-02-28     03:40:35     7327   2015-02-28  unknown           1   \n",
       "3051    2015-02-28     15:30:16     9713   2015-02-28       US           1   \n",
       "5999    2015-03-01     03:33:58     5005   2015-02-28       IT           1   \n",
       "7401    2015-03-01     11:36:11     1942   2015-03-01       ES           4   \n",
       "923     2015-03-01     12:33:50     6419   2015-03-01       DE           2   \n",
       "\n",
       "       session_hour                                        coordinates  \\\n",
       "12866             3                         [34.0536909, -118.2427666]   \n",
       "3051             15                          [40.7127281, -74.0060152]   \n",
       "5999              3                          [40.7127281, -74.0060152]   \n",
       "7401             11  [34.0536909, -118.2427666, 33.8347516, -117.91...   \n",
       "923              12  [40.7127281, -74.0060152, 40.7281575, -74.0776...   \n",
       "\n",
       "                                               distances  avg_distance  \\\n",
       "12866                                                 []      0.000000   \n",
       "3051                                                  []      0.000000   \n",
       "5999                                                  []      0.000000   \n",
       "7401   [39.06757347312749, 48.02850621465514, 5466.04...   2746.408574   \n",
       "923                                    [6.2895817337946]      6.289582   \n",
       "\n",
       "       std_distance intent  \n",
       "12866       0.00000   high  \n",
       "3051        0.00000   high  \n",
       "5999        0.00000   high  \n",
       "7401     2714.03335    low  \n",
       "923         0.00000   high  "
      ]
     },
     "execution_count": 30,
     "metadata": {},
     "output_type": "execute_result"
    }
   ],
   "source": [
    "data['intent'] = np.vectorize(lambda x: \"high\" if x==0 else \"low\")(y_pred)\n",
    "data.head()"
   ]
  },
  {
   "cell_type": "code",
   "execution_count": 31,
   "metadata": {},
   "outputs": [],
   "source": [
    "data.to_csv('q3_answer.csv', index=False)"
   ]
  },
  {
   "cell_type": "code",
   "execution_count": null,
   "metadata": {},
   "outputs": [],
   "source": []
  }
 ],
 "metadata": {
  "kernelspec": {
   "display_name": "Python 3",
   "language": "python",
   "name": "python3"
  },
  "language_info": {
   "codemirror_mode": {
    "name": "ipython",
    "version": 3
   },
   "file_extension": ".py",
   "mimetype": "text/x-python",
   "name": "python",
   "nbconvert_exporter": "python",
   "pygments_lexer": "ipython3",
   "version": "3.7.4"
  }
 },
 "nbformat": 4,
 "nbformat_minor": 2
}
