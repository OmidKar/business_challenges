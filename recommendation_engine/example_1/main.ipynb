{
 "cells": [
  {
   "cell_type": "markdown",
   "metadata": {},
   "source": [
    "# Challenge 2 - Recommendation engine for Prime Video\n",
    "\n",
    "Today, videos shown to new users on Prime Video’s home page are manually chosen. You need to implement a recommendation engine to increase the conversation rate.\n",
    "\n",
    "## Business Questions\n",
    "\n",
    "1- Classify each video into the following buckets:<br>\n",
    "    &nbsp;&nbsp;&nbsp;&nbsp;&nbsp;&nbsp;&nbsp; o  \"Hot\" - means trending up. These videos are candidates to be shown. <br>\n",
    "    &nbsp;&nbsp;&nbsp;&nbsp;&nbsp;&nbsp;&nbsp; o  \"Stable and Popular\" - video view counts are flat, but very high. These videos are candidates to be shown too. <br>\n",
    "    &nbsp;&nbsp;&nbsp;&nbsp;&nbsp;&nbsp;&nbsp; o  \"Everything else\" - these videos won't be shown. <br>\n",
    "2- What are the main characteristics of the \"hot videos\"?<br>\n",
    "3- After having identified the characteristics of the hot videos, how would you use this information from a product standpoint <br>\n",
    "\n",
    "In the following notebooks, I will explore the available data and try to provide data-driven answers to the above business questions.\n",
    "\n",
    "## Importing required libraries"
   ]
  },
  {
   "cell_type": "code",
   "execution_count": 1,
   "metadata": {},
   "outputs": [],
   "source": [
    "import pandas as pd\n",
    "import numpy as np\n",
    "import seaborn as sns\n",
    "import matplotlib.pyplot as plt\n",
    "import warnings\n",
    "warnings.filterwarnings(\"ignore\")"
   ]
  },
  {
   "cell_type": "markdown",
   "metadata": {},
   "source": [
    "## Read in the data\n",
    "\n",
    "The data provided is in CSV format and in two separate files as summarised below:\n",
    "\n",
    "File 1: video_count<br>\n",
    "Columns: <br>\n",
    "*video_id*: unique video id<br>\n",
    "*count*: total count of views for the specific video_id on the specific date <br>\n",
    "*date*: the date that these views occurred<br>\n",
    "\n",
    "\n",
    "File 2: video_features<br> \n",
    "Columns: <br>\n",
    "*video_id*: video id, unique by video and joinable to the video id in the other table <br>\n",
    "*video_length*: length of the video in seconds<br>\n",
    "*video_language*: language of the video, as selected by the user when they uploaded the video <br>\n",
    "*video_upload_date*: when the video was uploaded<br>\n",
    "*video_quality*: quality of the video. It can be [ 240p, 360p, 480p, 720p, 1080p] <br>\n",
    "\n",
    "    \n",
    "First I read in the \"video_count\" data using the csv reader from pandas library. As there is a date field, I read it in as date object."
   ]
  },
  {
   "cell_type": "code",
   "execution_count": 2,
   "metadata": {},
   "outputs": [],
   "source": [
    "countsDf = pd.read_csv(\"video_count.csv\", parse_dates=['date'])"
   ]
  },
  {
   "cell_type": "markdown",
   "metadata": {},
   "source": [
    "Before proceeding to answer the business questions, I do some preliminary exploration of the data in hand. <br>\n",
    "\n",
    "### *size and head of data*"
   ]
  },
  {
   "cell_type": "code",
   "execution_count": 3,
   "metadata": {},
   "outputs": [
    {
     "name": "stdout",
     "output_type": "stream",
     "text": [
      "(41775, 3)\n"
     ]
    },
    {
     "data": {
      "text/html": [
       "<div>\n",
       "<style scoped>\n",
       "    .dataframe tbody tr th:only-of-type {\n",
       "        vertical-align: middle;\n",
       "    }\n",
       "\n",
       "    .dataframe tbody tr th {\n",
       "        vertical-align: top;\n",
       "    }\n",
       "\n",
       "    .dataframe thead th {\n",
       "        text-align: right;\n",
       "    }\n",
       "</style>\n",
       "<table border=\"1\" class=\"dataframe\">\n",
       "  <thead>\n",
       "    <tr style=\"text-align: right;\">\n",
       "      <th></th>\n",
       "      <th>video_id</th>\n",
       "      <th>count</th>\n",
       "      <th>date</th>\n",
       "    </tr>\n",
       "  </thead>\n",
       "  <tbody>\n",
       "    <tr>\n",
       "      <th>0</th>\n",
       "      <td>2303</td>\n",
       "      <td>22</td>\n",
       "      <td>2015-01-07</td>\n",
       "    </tr>\n",
       "    <tr>\n",
       "      <th>1</th>\n",
       "      <td>1193</td>\n",
       "      <td>54854</td>\n",
       "      <td>2015-01-12</td>\n",
       "    </tr>\n",
       "    <tr>\n",
       "      <th>2</th>\n",
       "      <td>1219</td>\n",
       "      <td>1788779</td>\n",
       "      <td>2015-01-03</td>\n",
       "    </tr>\n",
       "    <tr>\n",
       "      <th>3</th>\n",
       "      <td>1472</td>\n",
       "      <td>234</td>\n",
       "      <td>2015-01-04</td>\n",
       "    </tr>\n",
       "    <tr>\n",
       "      <th>4</th>\n",
       "      <td>2947</td>\n",
       "      <td>14407</td>\n",
       "      <td>2015-01-08</td>\n",
       "    </tr>\n",
       "    <tr>\n",
       "      <th>5</th>\n",
       "      <td>1417</td>\n",
       "      <td>973996</td>\n",
       "      <td>2015-01-14</td>\n",
       "    </tr>\n",
       "    <tr>\n",
       "      <th>6</th>\n",
       "      <td>1564</td>\n",
       "      <td>42</td>\n",
       "      <td>2015-01-09</td>\n",
       "    </tr>\n",
       "    <tr>\n",
       "      <th>7</th>\n",
       "      <td>2962</td>\n",
       "      <td>278000</td>\n",
       "      <td>2015-01-03</td>\n",
       "    </tr>\n",
       "    <tr>\n",
       "      <th>8</th>\n",
       "      <td>2057</td>\n",
       "      <td>1134427</td>\n",
       "      <td>2015-01-05</td>\n",
       "    </tr>\n",
       "    <tr>\n",
       "      <th>9</th>\n",
       "      <td>1785</td>\n",
       "      <td>1059824</td>\n",
       "      <td>2015-01-09</td>\n",
       "    </tr>\n",
       "  </tbody>\n",
       "</table>\n",
       "</div>"
      ],
      "text/plain": [
       "   video_id    count       date\n",
       "0      2303       22 2015-01-07\n",
       "1      1193    54854 2015-01-12\n",
       "2      1219  1788779 2015-01-03\n",
       "3      1472      234 2015-01-04\n",
       "4      2947    14407 2015-01-08\n",
       "5      1417   973996 2015-01-14\n",
       "6      1564       42 2015-01-09\n",
       "7      2962   278000 2015-01-03\n",
       "8      2057  1134427 2015-01-05\n",
       "9      1785  1059824 2015-01-09"
      ]
     },
     "execution_count": 3,
     "metadata": {},
     "output_type": "execute_result"
    }
   ],
   "source": [
    "#lets check out the shape and head of the data\n",
    "print(countsDf.shape)\n",
    "countsDf.head(10)"
   ]
  },
  {
   "cell_type": "markdown",
   "metadata": {},
   "source": [
    "### *data types and statistic summary* "
   ]
  },
  {
   "cell_type": "code",
   "execution_count": 4,
   "metadata": {},
   "outputs": [
    {
     "name": "stdout",
     "output_type": "stream",
     "text": [
      "<class 'pandas.core.frame.DataFrame'>\n",
      "RangeIndex: 41775 entries, 0 to 41774\n",
      "Data columns (total 3 columns):\n",
      " #   Column    Non-Null Count  Dtype         \n",
      "---  ------    --------------  -----         \n",
      " 0   video_id  41775 non-null  int64         \n",
      " 1   count     41775 non-null  int64         \n",
      " 2   date      41775 non-null  datetime64[ns]\n",
      "dtypes: datetime64[ns](1), int64(2)\n",
      "memory usage: 979.2 KB\n"
     ]
    }
   ],
   "source": [
    "countsDf.info()"
   ]
  },
  {
   "cell_type": "code",
   "execution_count": 5,
   "metadata": {},
   "outputs": [
    {
     "data": {
      "text/html": [
       "<div>\n",
       "<style scoped>\n",
       "    .dataframe tbody tr th:only-of-type {\n",
       "        vertical-align: middle;\n",
       "    }\n",
       "\n",
       "    .dataframe tbody tr th {\n",
       "        vertical-align: top;\n",
       "    }\n",
       "\n",
       "    .dataframe thead th {\n",
       "        text-align: right;\n",
       "    }\n",
       "</style>\n",
       "<table border=\"1\" class=\"dataframe\">\n",
       "  <thead>\n",
       "    <tr style=\"text-align: right;\">\n",
       "      <th></th>\n",
       "      <th>video_id</th>\n",
       "      <th>count</th>\n",
       "    </tr>\n",
       "  </thead>\n",
       "  <tbody>\n",
       "    <tr>\n",
       "      <th>count</th>\n",
       "      <td>41775.000000</td>\n",
       "      <td>4.177500e+04</td>\n",
       "    </tr>\n",
       "    <tr>\n",
       "      <th>mean</th>\n",
       "      <td>1498.673250</td>\n",
       "      <td>6.243710e+05</td>\n",
       "    </tr>\n",
       "    <tr>\n",
       "      <th>std</th>\n",
       "      <td>864.094856</td>\n",
       "      <td>8.879097e+05</td>\n",
       "    </tr>\n",
       "    <tr>\n",
       "      <th>min</th>\n",
       "      <td>1.000000</td>\n",
       "      <td>1.000000e+00</td>\n",
       "    </tr>\n",
       "    <tr>\n",
       "      <th>25%</th>\n",
       "      <td>754.000000</td>\n",
       "      <td>9.095500e+03</td>\n",
       "    </tr>\n",
       "    <tr>\n",
       "      <th>50%</th>\n",
       "      <td>1492.000000</td>\n",
       "      <td>1.795580e+05</td>\n",
       "    </tr>\n",
       "    <tr>\n",
       "      <th>75%</th>\n",
       "      <td>2236.000000</td>\n",
       "      <td>9.043615e+05</td>\n",
       "    </tr>\n",
       "    <tr>\n",
       "      <th>max</th>\n",
       "      <td>3000.000000</td>\n",
       "      <td>6.070570e+06</td>\n",
       "    </tr>\n",
       "  </tbody>\n",
       "</table>\n",
       "</div>"
      ],
      "text/plain": [
       "           video_id         count\n",
       "count  41775.000000  4.177500e+04\n",
       "mean    1498.673250  6.243710e+05\n",
       "std      864.094856  8.879097e+05\n",
       "min        1.000000  1.000000e+00\n",
       "25%      754.000000  9.095500e+03\n",
       "50%     1492.000000  1.795580e+05\n",
       "75%     2236.000000  9.043615e+05\n",
       "max     3000.000000  6.070570e+06"
      ]
     },
     "execution_count": 5,
     "metadata": {},
     "output_type": "execute_result"
    }
   ],
   "source": [
    "countsDf.describe()"
   ]
  },
  {
   "cell_type": "markdown",
   "metadata": {},
   "source": [
    "### *check for missing values*"
   ]
  },
  {
   "cell_type": "code",
   "execution_count": 6,
   "metadata": {},
   "outputs": [
    {
     "name": "stdout",
     "output_type": "stream",
     "text": [
      "NaN report /n video_id    0\n",
      "count       0\n",
      "date        0\n",
      "dtype: int64 \n",
      "\n"
     ]
    }
   ],
   "source": [
    "print(\"NaN report \\n\", countsDf.isna().sum(),\"\\n\")"
   ]
  },
  {
   "cell_type": "markdown",
   "metadata": {},
   "source": [
    "Great, there are no missing values.\n",
    "\n",
    "### *check the span of dates*"
   ]
  },
  {
   "cell_type": "code",
   "execution_count": 7,
   "metadata": {},
   "outputs": [
    {
     "name": "stdout",
     "output_type": "stream",
     "text": [
      "there are 15 dates from 2015-01-01 00:00:00 to 2015-01-15 00:00:00\n"
     ]
    },
    {
     "data": {
      "text/plain": [
       "True"
      ]
     },
     "execution_count": 7,
     "metadata": {},
     "output_type": "execute_result"
    }
   ],
   "source": [
    "print(f\"there are {len(countsDf['date'].unique())} dates from {countsDf['date'].min()} to {countsDf['date'].max()}\")\n",
    "#check if the days are continous, i.e. there is no gap in the period\n",
    "len(countsDf['date'].unique()) == (countsDf['date'].max() - countsDf['date'].min()).days + 1"
   ]
  },
  {
   "cell_type": "code",
   "execution_count": 8,
   "metadata": {},
   "outputs": [
    {
     "name": "stdout",
     "output_type": "stream",
     "text": [
      "all earliest dates per video: ['2015-01-01T00:00:00.000000000']\n",
      "all latest dates per video: ['2015-01-15T00:00:00.000000000']\n",
      "all number of days per video: [15]\n"
     ]
    }
   ],
   "source": [
    "gdf = countsDf.groupby('video_id')['date'].agg(earliest=min, latest=max, num_days=len).reset_index()\n",
    "print(f\"all earliest dates per video: {gdf['earliest'].unique()}\")\n",
    "print(f\"all latest dates per video: {gdf['latest'].unique()}\")\n",
    "print(f\"all number of days per video: {gdf['num_days'].unique()}\")"
   ]
  },
  {
   "cell_type": "markdown",
   "metadata": {},
   "source": [
    "Above analysis shows that we have the counts on all days during the period for all videos, i.e. there is no gap for the counts for any of the videos. This shows that the time series period is identical for all videos; which allow for valid comparison of vaiations along the priod accross various videos.\n",
    "\n",
    "### *how many unique video_ids are there?*"
   ]
  },
  {
   "cell_type": "code",
   "execution_count": 9,
   "metadata": {},
   "outputs": [
    {
     "name": "stdout",
     "output_type": "stream",
     "text": [
      "there are 2785 unique videos\n"
     ]
    }
   ],
   "source": [
    "print(f\"there are {len(countsDf['video_id'].unique())} unique videos\")"
   ]
  },
  {
   "cell_type": "markdown",
   "metadata": {},
   "source": [
    "### *check the distribution of counts*"
   ]
  },
  {
   "cell_type": "code",
   "execution_count": 10,
   "metadata": {},
   "outputs": [
    {
     "data": {
      "text/plain": [
       "<matplotlib.axes._subplots.AxesSubplot at 0x270b08c1320>"
      ]
     },
     "execution_count": 10,
     "metadata": {},
     "output_type": "execute_result"
    },
    {
     "data": {
      "image/png": "[encoded data removed]",
      "text/plain": [
       "<Figure size 432x288 with 1 Axes>"
      ]
     },
     "metadata": {
      "needs_background": "light"
     },
     "output_type": "display_data"
    }
   ],
   "source": [
    "countsDf['count'].hist(bins=[250000*i for i in range(25)])"
   ]
  },
  {
   "cell_type": "markdown",
   "metadata": {},
   "source": [
    "The distribution is heavily skewed (right tailed)... I may need to do some transformation on this variable if I need to work with it later on. "
   ]
  },
  {
   "cell_type": "markdown",
   "metadata": {},
   "source": [
    "# Q1\n",
    "\n",
    "### 1- Classify each video into the following buckets:####<br>\n",
    "&nbsp;&nbsp;&nbsp;&nbsp;&nbsp;&nbsp;&nbsp; o  \"Hot\" - means trending up. These videos are candidates to be shown. <br>\n",
    "&nbsp;&nbsp;&nbsp;&nbsp;&nbsp;&nbsp;&nbsp; o  \"Stable and Popular\" - video view counts are flat, but very high. These videos are candidates to be shown too. <br>\n",
    "&nbsp;&nbsp;&nbsp;&nbsp;&nbsp;&nbsp;&nbsp; o  \"Everything else\" - these videos won't be shown. <br>\n",
    "\n",
    "### Solution logic:\n",
    "\n",
    "One attribute for calssifying the movies is the trend. So first I need to determine what do \"Trend Up\" and \"Flatness\" mean? I note that the view counts spread widely across various videos (from the describtion above). As such, for trend assessment, in order to maintain relativeness to be able to compare videos based on this criteria, I can look at the rate of change.<br>\n",
    "There are a couple of ways to do this. Either directly calculate the evareg rate of change in each time series, or I can fit a linear line to the logarithm of the viewing counts and consider the slope as an approximate of the average rate of change. I decide to go with the latter as a popular way to indicate trend in time series. \n",
    "\n",
    "As for popularity, it is more straightforward, and I can look at statistics of the count itself. I can choose minimum or mean/median. I will go with median as minimum could be faulty in case that in one single day a movie is not viewed at all maybe simply due to technical issues. But indeed the movie could be still popular. Also, compared to mean, median is more robust against outliers.\n",
    "\n",
    "### *Trend Analysis*\n",
    "\n",
    "I need to group the data by video id and then generate a trend for each group (i.e. each video id). in order to fit a linear regression line trough the observations (=counts) within each group, I need to make sure the data is sorted based on date and then be able to fit a linear trend line. According to pandas groupby documents, it preserves order within observations of each group, so I first sort the data based on date, and then group on video ids. I can also leverage the 'agg' operation to map the trend calculation of the groupned data. <br>\n",
    "\n",
    "In the same groupby statement, I calculate the median value for the counts as well (for popularity evaluation).\n",
    "\n",
    "Below is the code for this two steps:"
   ]
  },
  {
   "cell_type": "code",
   "execution_count": 11,
   "metadata": {
    "scrolled": true
   },
   "outputs": [
    {
     "data": {
      "text/html": [
       "<div>\n",
       "<style scoped>\n",
       "    .dataframe tbody tr th:only-of-type {\n",
       "        vertical-align: middle;\n",
       "    }\n",
       "\n",
       "    .dataframe tbody tr th {\n",
       "        vertical-align: top;\n",
       "    }\n",
       "\n",
       "    .dataframe thead th {\n",
       "        text-align: right;\n",
       "    }\n",
       "</style>\n",
       "<table border=\"1\" class=\"dataframe\">\n",
       "  <thead>\n",
       "    <tr style=\"text-align: right;\">\n",
       "      <th></th>\n",
       "      <th>video_id</th>\n",
       "      <th>trend</th>\n",
       "      <th>median_count</th>\n",
       "    </tr>\n",
       "  </thead>\n",
       "  <tbody>\n",
       "    <tr>\n",
       "      <th>0</th>\n",
       "      <td>1</td>\n",
       "      <td>-0.138611</td>\n",
       "      <td>65907</td>\n",
       "    </tr>\n",
       "    <tr>\n",
       "      <th>1</th>\n",
       "      <td>2</td>\n",
       "      <td>-0.006330</td>\n",
       "      <td>1718352</td>\n",
       "    </tr>\n",
       "    <tr>\n",
       "      <th>2</th>\n",
       "      <td>3</td>\n",
       "      <td>0.012894</td>\n",
       "      <td>2247587</td>\n",
       "    </tr>\n",
       "    <tr>\n",
       "      <th>3</th>\n",
       "      <td>4</td>\n",
       "      <td>0.011313</td>\n",
       "      <td>2719547</td>\n",
       "    </tr>\n",
       "    <tr>\n",
       "      <th>4</th>\n",
       "      <td>5</td>\n",
       "      <td>-0.114482</td>\n",
       "      <td>388594</td>\n",
       "    </tr>\n",
       "    <tr>\n",
       "      <th>5</th>\n",
       "      <td>6</td>\n",
       "      <td>-0.169402</td>\n",
       "      <td>58520</td>\n",
       "    </tr>\n",
       "    <tr>\n",
       "      <th>6</th>\n",
       "      <td>7</td>\n",
       "      <td>-0.148929</td>\n",
       "      <td>236740</td>\n",
       "    </tr>\n",
       "    <tr>\n",
       "      <th>7</th>\n",
       "      <td>8</td>\n",
       "      <td>0.008080</td>\n",
       "      <td>2042499</td>\n",
       "    </tr>\n",
       "    <tr>\n",
       "      <th>8</th>\n",
       "      <td>9</td>\n",
       "      <td>0.007871</td>\n",
       "      <td>328</td>\n",
       "    </tr>\n",
       "    <tr>\n",
       "      <th>9</th>\n",
       "      <td>10</td>\n",
       "      <td>0.283766</td>\n",
       "      <td>5483</td>\n",
       "    </tr>\n",
       "  </tbody>\n",
       "</table>\n",
       "</div>"
      ],
      "text/plain": [
       "   video_id     trend  median_count\n",
       "0         1 -0.138611         65907\n",
       "1         2 -0.006330       1718352\n",
       "2         3  0.012894       2247587\n",
       "3         4  0.011313       2719547\n",
       "4         5 -0.114482        388594\n",
       "5         6 -0.169402         58520\n",
       "6         7 -0.148929        236740\n",
       "7         8  0.008080       2042499\n",
       "8         9  0.007871           328\n",
       "9        10  0.283766          5483"
      ]
     },
     "execution_count": 11,
     "metadata": {},
     "output_type": "execute_result"
    }
   ],
   "source": [
    "#fit a trend line (linear regression) to the logarithm of the time series values \n",
    "#and return the line slope as the trend indicator.\n",
    "def getTrend(series):\n",
    "    m, b = np.polyfit([i for i in range(len(series))], np.log(series), 1) \n",
    "    return m\n",
    "\n",
    "\n",
    "countsDf.sort_values(['date'], inplace=True)   #sorting the time series\n",
    "trendDf = countsDf.groupby(\"video_id\")['count'].agg(trend=getTrend, \n",
    "                                                    median_count=np.median).reset_index()   #calculate trend and median\n",
    "trendDf.head(10)"
   ]
  },
  {
   "cell_type": "markdown",
   "metadata": {},
   "source": [
    "Now that I have the viewing trend values, I simply join the two datasets to get this value over to the original counts data."
   ]
  },
  {
   "cell_type": "code",
   "execution_count": 12,
   "metadata": {},
   "outputs": [
    {
     "data": {
      "text/html": [
       "<div>\n",
       "<style scoped>\n",
       "    .dataframe tbody tr th:only-of-type {\n",
       "        vertical-align: middle;\n",
       "    }\n",
       "\n",
       "    .dataframe tbody tr th {\n",
       "        vertical-align: top;\n",
       "    }\n",
       "\n",
       "    .dataframe thead th {\n",
       "        text-align: right;\n",
       "    }\n",
       "</style>\n",
       "<table border=\"1\" class=\"dataframe\">\n",
       "  <thead>\n",
       "    <tr style=\"text-align: right;\">\n",
       "      <th></th>\n",
       "      <th>video_id</th>\n",
       "      <th>count</th>\n",
       "      <th>date</th>\n",
       "      <th>trend</th>\n",
       "      <th>median_count</th>\n",
       "    </tr>\n",
       "  </thead>\n",
       "  <tbody>\n",
       "    <tr>\n",
       "      <th>0</th>\n",
       "      <td>2576</td>\n",
       "      <td>1126807</td>\n",
       "      <td>2015-01-01</td>\n",
       "      <td>-0.114259</td>\n",
       "      <td>426702</td>\n",
       "    </tr>\n",
       "    <tr>\n",
       "      <th>1</th>\n",
       "      <td>492</td>\n",
       "      <td>1031016</td>\n",
       "      <td>2015-01-01</td>\n",
       "      <td>-0.145225</td>\n",
       "      <td>291287</td>\n",
       "    </tr>\n",
       "    <tr>\n",
       "      <th>2</th>\n",
       "      <td>2005</td>\n",
       "      <td>271</td>\n",
       "      <td>2015-01-01</td>\n",
       "      <td>-0.019882</td>\n",
       "      <td>244</td>\n",
       "    </tr>\n",
       "    <tr>\n",
       "      <th>3</th>\n",
       "      <td>50</td>\n",
       "      <td>351</td>\n",
       "      <td>2015-01-01</td>\n",
       "      <td>-0.020956</td>\n",
       "      <td>354</td>\n",
       "    </tr>\n",
       "    <tr>\n",
       "      <th>4</th>\n",
       "      <td>1606</td>\n",
       "      <td>458361</td>\n",
       "      <td>2015-01-01</td>\n",
       "      <td>-0.021848</td>\n",
       "      <td>392927</td>\n",
       "    </tr>\n",
       "    <tr>\n",
       "      <th>5</th>\n",
       "      <td>675</td>\n",
       "      <td>2939384</td>\n",
       "      <td>2015-01-01</td>\n",
       "      <td>-0.016348</td>\n",
       "      <td>2306097</td>\n",
       "    </tr>\n",
       "    <tr>\n",
       "      <th>6</th>\n",
       "      <td>92</td>\n",
       "      <td>18</td>\n",
       "      <td>2015-01-01</td>\n",
       "      <td>-0.068021</td>\n",
       "      <td>12</td>\n",
       "    </tr>\n",
       "    <tr>\n",
       "      <th>7</th>\n",
       "      <td>1188</td>\n",
       "      <td>1511385</td>\n",
       "      <td>2015-01-01</td>\n",
       "      <td>0.010545</td>\n",
       "      <td>1593007</td>\n",
       "    </tr>\n",
       "    <tr>\n",
       "      <th>8</th>\n",
       "      <td>1039</td>\n",
       "      <td>170</td>\n",
       "      <td>2015-01-01</td>\n",
       "      <td>-0.025712</td>\n",
       "      <td>137</td>\n",
       "    </tr>\n",
       "    <tr>\n",
       "      <th>9</th>\n",
       "      <td>2569</td>\n",
       "      <td>225167</td>\n",
       "      <td>2015-01-01</td>\n",
       "      <td>-0.123432</td>\n",
       "      <td>128237</td>\n",
       "    </tr>\n",
       "  </tbody>\n",
       "</table>\n",
       "</div>"
      ],
      "text/plain": [
       "   video_id    count       date     trend  median_count\n",
       "0      2576  1126807 2015-01-01 -0.114259        426702\n",
       "1       492  1031016 2015-01-01 -0.145225        291287\n",
       "2      2005      271 2015-01-01 -0.019882           244\n",
       "3        50      351 2015-01-01 -0.020956           354\n",
       "4      1606   458361 2015-01-01 -0.021848        392927\n",
       "5       675  2939384 2015-01-01 -0.016348       2306097\n",
       "6        92       18 2015-01-01 -0.068021            12\n",
       "7      1188  1511385 2015-01-01  0.010545       1593007\n",
       "8      1039      170 2015-01-01 -0.025712           137\n",
       "9      2569   225167 2015-01-01 -0.123432        128237"
      ]
     },
     "execution_count": 12,
     "metadata": {},
     "output_type": "execute_result"
    }
   ],
   "source": [
    "countsDf = countsDf.merge(trendDf, on='video_id', how='left')\n",
    "countsDf.head(10)"
   ]
  },
  {
   "cell_type": "markdown",
   "metadata": {},
   "source": [
    "So now back to the question of what is \"trend up\" and what is \"flatness\"? before making decisions, let me have a look at the distribution of newly created trend and popularity attributes.\n",
    "\n",
    "First I look at the distribution information for the viewing trends across different id's"
   ]
  },
  {
   "cell_type": "code",
   "execution_count": 13,
   "metadata": {},
   "outputs": [
    {
     "data": {
      "text/html": [
       "<div>\n",
       "<style scoped>\n",
       "    .dataframe tbody tr th:only-of-type {\n",
       "        vertical-align: middle;\n",
       "    }\n",
       "\n",
       "    .dataframe tbody tr th {\n",
       "        vertical-align: top;\n",
       "    }\n",
       "\n",
       "    .dataframe thead th {\n",
       "        text-align: right;\n",
       "    }\n",
       "</style>\n",
       "<table border=\"1\" class=\"dataframe\">\n",
       "  <thead>\n",
       "    <tr style=\"text-align: right;\">\n",
       "      <th></th>\n",
       "      <th>video_id</th>\n",
       "      <th>trend</th>\n",
       "      <th>median_count</th>\n",
       "    </tr>\n",
       "  </thead>\n",
       "  <tbody>\n",
       "    <tr>\n",
       "      <th>count</th>\n",
       "      <td>2785.000000</td>\n",
       "      <td>2785.000000</td>\n",
       "      <td>2.785000e+03</td>\n",
       "    </tr>\n",
       "    <tr>\n",
       "      <th>mean</th>\n",
       "      <td>1498.673250</td>\n",
       "      <td>0.006337</td>\n",
       "      <td>5.950780e+05</td>\n",
       "    </tr>\n",
       "    <tr>\n",
       "      <th>std</th>\n",
       "      <td>864.239687</td>\n",
       "      <td>0.165809</td>\n",
       "      <td>8.666992e+05</td>\n",
       "    </tr>\n",
       "    <tr>\n",
       "      <th>min</th>\n",
       "      <td>1.000000</td>\n",
       "      <td>-0.254783</td>\n",
       "      <td>5.000000e+00</td>\n",
       "    </tr>\n",
       "    <tr>\n",
       "      <th>25%</th>\n",
       "      <td>754.000000</td>\n",
       "      <td>-0.121751</td>\n",
       "      <td>9.439000e+03</td>\n",
       "    </tr>\n",
       "    <tr>\n",
       "      <th>50%</th>\n",
       "      <td>1492.000000</td>\n",
       "      <td>-0.011448</td>\n",
       "      <td>1.738610e+05</td>\n",
       "    </tr>\n",
       "    <tr>\n",
       "      <th>75%</th>\n",
       "      <td>2236.000000</td>\n",
       "      <td>0.014362</td>\n",
       "      <td>7.733720e+05</td>\n",
       "    </tr>\n",
       "    <tr>\n",
       "      <th>max</th>\n",
       "      <td>3000.000000</td>\n",
       "      <td>0.456402</td>\n",
       "      <td>4.235253e+06</td>\n",
       "    </tr>\n",
       "  </tbody>\n",
       "</table>\n",
       "</div>"
      ],
      "text/plain": [
       "          video_id        trend  median_count\n",
       "count  2785.000000  2785.000000  2.785000e+03\n",
       "mean   1498.673250     0.006337  5.950780e+05\n",
       "std     864.239687     0.165809  8.666992e+05\n",
       "min       1.000000    -0.254783  5.000000e+00\n",
       "25%     754.000000    -0.121751  9.439000e+03\n",
       "50%    1492.000000    -0.011448  1.738610e+05\n",
       "75%    2236.000000     0.014362  7.733720e+05\n",
       "max    3000.000000     0.456402  4.235253e+06"
      ]
     },
     "execution_count": 13,
     "metadata": {},
     "output_type": "execute_result"
    }
   ],
   "source": [
    "trendDf.describe()"
   ]
  },
  {
   "cell_type": "code",
   "execution_count": 14,
   "metadata": {},
   "outputs": [
    {
     "data": {
      "image/png": "[encoded data removed]",
      "text/plain": [
       "<Figure size 1080x360 with 1 Axes>"
      ]
     },
     "metadata": {
      "needs_background": "light"
     },
     "output_type": "display_data"
    }
   ],
   "source": [
    "#visualise trend distribution:\n",
    "countsDf['trend'].hist(bins=[0.01*i for i in range(-25, 30)], figsize=(15,5))\n",
    "plt.xlabel(\"Trend (Avg. Rate of Change in Views)\")\n",
    "plt.ylabel(\"Num. Videos\")\n",
    "plt.show()"
   ]
  },
  {
   "cell_type": "markdown",
   "metadata": {},
   "source": [
    "Promising...looks like a separable distribution where highly upward trend is easily separable from flat trend and downward trend.\n",
    "\n",
    "Now, I visualise the distribution of videos based on both newly created attibutes for trend and popularity:"
   ]
  },
  {
   "cell_type": "code",
   "execution_count": 15,
   "metadata": {},
   "outputs": [
    {
     "data": {
      "image/png": "[encoded data removed]",
      "text/plain": [
       "<Figure size 1440x720 with 1 Axes>"
      ]
     },
     "metadata": {
      "needs_background": "light"
     },
     "output_type": "display_data"
    }
   ],
   "source": [
    "plt.figure(figsize=(20,10))\n",
    "plt.scatter(countsDf['trend'], countsDf['median_count'])\n",
    "plt.xlabel(\"Trend (Avg. Rate of Change in Views)\")\n",
    "plt.ylabel(\"Median View Count\")\n",
    "plt.show()"
   ]
  },
  {
   "cell_type": "markdown",
   "metadata": {},
   "source": [
    "Nice... a few insights here:<br> \n",
    "1) the seperation is dominated by the trend; <br>\n",
    "2) the highly upward-trending videos are relatively small in median viewing counts, but given the very sharp increaing rate they are being viewed at (viral?!), they have a big potential to reach high viewing counts in the future, so it is reasonable to include them in the recommendation; <br>\n",
    "3)some of the highly viewed videos are also showing some upware trend (not as high as the right bottom corner); but with a right minimum criteria, they will be captured as part of \"Stable & Popular\" videos and will still be candidates to be recommended, so we are not missing on them.\n",
    "\n",
    "### *Labeling strategy*:\n",
    "\n",
    "I can now label the Hot videos using the trend. As descried in the business question, \"Hot\" mean trending up, i.e. positive rate of change. I think in a business context we actually can introduce a minimum criteria for a video to be identified as \"Hot\". If a slope is large enough for the video to be identified as hot, as opposed to those that have some slight up and downs (which might still show a small positive slope). This is indeed a parameter and can be set based on the business objectives or experimentations. The bigger this tolerance, the more likely we are missing on videos that can be potentially hot and views are actually interested to watch if get the recommendation. Lower values may mean that we allow for some not hot videos to be recommended to the user. While this might seems harmless, it might negatively impact the impression of the customer about the efficiency of our smart recommendation technology. And with the competition in market, this might mean losing customers.\n",
    "\n",
    "Here, however, given the clear seperation that the normalise trend give us, we can introduce the hotness criteria easily from the above scatter plot. As for flatness, I can allow a marginal negative slope to be considered as flat.\n",
    "\n",
    "As for the popularity, in the absence of further business context, I select a relative measure: <br>\n",
    "I define \"very high view count\" to be anything more than the 9th quantile of all \"median view counts\" across all videos.<br>\n",
    "\n",
    "One other thing to note is, as both \"Hot\" (trend up) and \"Stable & Popular\" (flat and very high) videos are going to be candidates to be shown, basically only videos that are trending down AND not very high demand will be filtered; As I need to identify both \"Trend Up\" and \"Flat\", I decide to choose relative criteria for these as below:"
   ]
  },
  {
   "cell_type": "code",
   "execution_count": 16,
   "metadata": {},
   "outputs": [
    {
     "name": "stdout",
     "output_type": "stream",
     "text": [
      "Assumptions in this analysis: \n",
      "Trend up means slope > 0.1\n",
      "Flatness means slope in range [-0.001, 0.1]\n",
      "Minimum popularity: 2093595.9999999995\n"
     ]
    }
   ],
   "source": [
    "print(\"Assumptions in this analysis: \")\n",
    "HOTNESS_MIN_TOL = 0.1   #as observed in the above visualisation (x-axis)\n",
    "print(f\"Trend up means slope > {HOTNESS_MIN_TOL}\")\n",
    "FLATNESS_MIN_TOL = -0.001  #small tolerance for flatness\n",
    "print(f\"Flatness means slope in range [{FLATNESS_MIN_TOL}, {HOTNESS_MIN_TOL}]\")\n",
    "\n",
    "#How high is very high for video counts? I think it is a relative thing, so in the absence of more business context, \n",
    "#I choose the relevant parameter as below:\n",
    "POPULARITY_MIN_TOL = trendDf['median_count'].quantile(0.9)\n",
    "print(f\"Minimum popularity: {POPULARITY_MIN_TOL}\")"
   ]
  },
  {
   "cell_type": "markdown",
   "metadata": {},
   "source": [
    "With the above parameters chosen, we are basically after the videos falling in the first quadrant of the plot below as candidates to be shown as recommendations."
   ]
  },
  {
   "cell_type": "code",
   "execution_count": 17,
   "metadata": {},
   "outputs": [
    {
     "data": {
      "image/png": "[encoded data removed]",
      "text/plain": [
       "<Figure size 2160x720 with 1 Axes>"
      ]
     },
     "metadata": {
      "needs_background": "light"
     },
     "output_type": "display_data"
    }
   ],
   "source": [
    "plt.figure(figsize=(30,10))\n",
    "plt.scatter(countsDf['trend'], countsDf['median_count'])\n",
    "ver = countsDf['median_count'].sort_values()\n",
    "hor = countsDf['trend'].sort_values()\n",
    "plt.plot([HOTNESS_MIN_TOL for i in range(len(ver))], list(ver), c='red')\n",
    "plt.plot([FLATNESS_MIN_TOL for i in range(len(ver))], list(ver), c='red')\n",
    "plt.plot(list(hor), [POPULARITY_MIN_TOL for i in range(len(hor))], c='red')\n",
    "plt.xlabel(\"Viewing Trend\")\n",
    "plt.ylabel(\"Minimum View\")\n",
    "plt.show()"
   ]
  },
  {
   "cell_type": "code",
   "execution_count": 18,
   "metadata": {},
   "outputs": [
    {
     "data": {
      "text/html": [
       "<div>\n",
       "<style scoped>\n",
       "    .dataframe tbody tr th:only-of-type {\n",
       "        vertical-align: middle;\n",
       "    }\n",
       "\n",
       "    .dataframe tbody tr th {\n",
       "        vertical-align: top;\n",
       "    }\n",
       "\n",
       "    .dataframe thead th {\n",
       "        text-align: right;\n",
       "    }\n",
       "</style>\n",
       "<table border=\"1\" class=\"dataframe\">\n",
       "  <thead>\n",
       "    <tr style=\"text-align: right;\">\n",
       "      <th></th>\n",
       "      <th>video_id</th>\n",
       "      <th>count</th>\n",
       "      <th>date</th>\n",
       "      <th>trend</th>\n",
       "      <th>median_count</th>\n",
       "      <th>label</th>\n",
       "    </tr>\n",
       "  </thead>\n",
       "  <tbody>\n",
       "    <tr>\n",
       "      <th>0</th>\n",
       "      <td>2576</td>\n",
       "      <td>1126807</td>\n",
       "      <td>2015-01-01</td>\n",
       "      <td>-0.114259</td>\n",
       "      <td>426702</td>\n",
       "      <td>0</td>\n",
       "    </tr>\n",
       "    <tr>\n",
       "      <th>1</th>\n",
       "      <td>492</td>\n",
       "      <td>1031016</td>\n",
       "      <td>2015-01-01</td>\n",
       "      <td>-0.145225</td>\n",
       "      <td>291287</td>\n",
       "      <td>0</td>\n",
       "    </tr>\n",
       "    <tr>\n",
       "      <th>2</th>\n",
       "      <td>2005</td>\n",
       "      <td>271</td>\n",
       "      <td>2015-01-01</td>\n",
       "      <td>-0.019882</td>\n",
       "      <td>244</td>\n",
       "      <td>0</td>\n",
       "    </tr>\n",
       "    <tr>\n",
       "      <th>3</th>\n",
       "      <td>50</td>\n",
       "      <td>351</td>\n",
       "      <td>2015-01-01</td>\n",
       "      <td>-0.020956</td>\n",
       "      <td>354</td>\n",
       "      <td>0</td>\n",
       "    </tr>\n",
       "    <tr>\n",
       "      <th>4</th>\n",
       "      <td>1606</td>\n",
       "      <td>458361</td>\n",
       "      <td>2015-01-01</td>\n",
       "      <td>-0.021848</td>\n",
       "      <td>392927</td>\n",
       "      <td>0</td>\n",
       "    </tr>\n",
       "  </tbody>\n",
       "</table>\n",
       "</div>"
      ],
      "text/plain": [
       "   video_id    count       date     trend  median_count  label\n",
       "0      2576  1126807 2015-01-01 -0.114259        426702      0\n",
       "1       492  1031016 2015-01-01 -0.145225        291287      0\n",
       "2      2005      271 2015-01-01 -0.019882           244      0\n",
       "3        50      351 2015-01-01 -0.020956           354      0\n",
       "4      1606   458361 2015-01-01 -0.021848        392927      0"
      ]
     },
     "execution_count": 18,
     "metadata": {},
     "output_type": "execute_result"
    }
   ],
   "source": [
    "#create labels based on the criteria introduced above:\n",
    "def getLabel(row):\n",
    "    if row['trend'] > HOTNESS_MIN_TOL:\n",
    "        return 2\n",
    "    elif row['trend'] > FLATNESS_MIN_TOL and row['median_count'] > POPULARITY_MIN_TOL:\n",
    "        return 1\n",
    "    else:\n",
    "        return 0\n",
    "        \n",
    "countsDf['label'] = countsDf.apply(getLabel, axis=1)  #apply labels to the data in a separate column\n",
    "countsDf.head()"
   ]
  },
  {
   "cell_type": "markdown",
   "metadata": {},
   "source": [
    "Below, I clearly visulaise what data points were identified as \"Hot\" (Yellow) vs \"Stable & Popular\" (Green) vs \"Everything Else\" (purple)."
   ]
  },
  {
   "cell_type": "code",
   "execution_count": 19,
   "metadata": {},
   "outputs": [
    {
     "data": {
      "text/plain": [
       "<matplotlib.collections.PathCollection at 0x270b0ab1240>"
      ]
     },
     "execution_count": 19,
     "metadata": {},
     "output_type": "execute_result"
    },
    {
     "data": {
      "image/png": "[encoded data removed]",
      "text/plain": [
       "<Figure size 1440x720 with 1 Axes>"
      ]
     },
     "metadata": {
      "needs_background": "light"
     },
     "output_type": "display_data"
    }
   ],
   "source": [
    "plt.figure(figsize=(20,10))\n",
    "plt.scatter(countsDf['trend'], countsDf['median_count'], c = countsDf['label'].astype(float), s=50)"
   ]
  },
  {
   "cell_type": "markdown",
   "metadata": {},
   "source": [
    "And below is the numerical statistics on these labeling:"
   ]
  },
  {
   "cell_type": "code",
   "execution_count": 20,
   "metadata": {},
   "outputs": [
    {
     "name": "stdout",
     "output_type": "stream",
     "text": [
      "Among total of 41775 videos, 7500 (=17.95 percent) Hot and 2655 (=6.36 percent) Stable & Popular videos are identified\n"
     ]
    }
   ],
   "source": [
    "countsDf['label'] = countsDf['label'].map({0:\"EE\", 1:\"SP\", 2:\"Hot\"})\n",
    "numHot = countsDf[countsDf['label']==\"Hot\"].shape[0]\n",
    "numSP = countsDf[countsDf['label']==\"SP\"].shape[0]\n",
    "total = countsDf.shape[0]\n",
    "print(\"Among total of %d videos, %d (=%4.2f percent) Hot and %d (=%4.2f percent) Stable & Popular videos are identified\"%(total, numHot, numHot*100/total, numSP, numSP*100/total))"
   ]
  },
  {
   "cell_type": "markdown",
   "metadata": {},
   "source": [
    "# Q2\n",
    "\n",
    "### 2- What are the main characteristics of the \"hot videos\"?\n",
    "\n",
    "### Solution logic:\n",
    "\n",
    "Now that I have labelled the data, I will bring in the video features data and merge it with the labeled data. Then I will analyse various features vs labels to see if I can find meaningful correlations/associations between features and labels. I will use multiple techniques to investigate correlations/associations including univariate analysis (visualisation, conditional probabilities etc) and multibarriate analysis using tree-based models. \n",
    "\n",
    "First lets read in the features data and sort it based on upload date"
   ]
  },
  {
   "cell_type": "code",
   "execution_count": 21,
   "metadata": {},
   "outputs": [],
   "source": [
    "featuresDf = pd.read_csv(\"../data/video_features.csv\", parse_dates=['video_upload_date'])\n",
    "featuresDf.sort_values('video_upload_date', inplace=True)"
   ]
  },
  {
   "cell_type": "markdown",
   "metadata": {},
   "source": [
    "Then, lets merge together the label data to features data. Before that, I am curious to know about the vidoes on both datasets:"
   ]
  },
  {
   "cell_type": "code",
   "execution_count": 22,
   "metadata": {},
   "outputs": [
    {
     "data": {
      "text/plain": [
       "True"
      ]
     },
     "execution_count": 22,
     "metadata": {},
     "output_type": "execute_result"
    }
   ],
   "source": [
    "set(countsDf['video_id'].unique()) == set(featuresDf['video_id'].unique())"
   ]
  },
  {
   "cell_type": "code",
   "execution_count": 23,
   "metadata": {},
   "outputs": [
    {
     "name": "stdout",
     "output_type": "stream",
     "text": [
      "(41775, 10)\n"
     ]
    },
    {
     "data": {
      "text/html": [
       "<div>\n",
       "<style scoped>\n",
       "    .dataframe tbody tr th:only-of-type {\n",
       "        vertical-align: middle;\n",
       "    }\n",
       "\n",
       "    .dataframe tbody tr th {\n",
       "        vertical-align: top;\n",
       "    }\n",
       "\n",
       "    .dataframe thead th {\n",
       "        text-align: right;\n",
       "    }\n",
       "</style>\n",
       "<table border=\"1\" class=\"dataframe\">\n",
       "  <thead>\n",
       "    <tr style=\"text-align: right;\">\n",
       "      <th></th>\n",
       "      <th>video_id</th>\n",
       "      <th>video_length</th>\n",
       "      <th>video_language</th>\n",
       "      <th>video_upload_date</th>\n",
       "      <th>video_quality</th>\n",
       "      <th>count</th>\n",
       "      <th>date</th>\n",
       "      <th>trend</th>\n",
       "      <th>median_count</th>\n",
       "      <th>label</th>\n",
       "    </tr>\n",
       "  </thead>\n",
       "  <tbody>\n",
       "    <tr>\n",
       "      <th>0</th>\n",
       "      <td>1812</td>\n",
       "      <td>1748</td>\n",
       "      <td>Fr</td>\n",
       "      <td>2014-12-02</td>\n",
       "      <td>1080p</td>\n",
       "      <td>313181</td>\n",
       "      <td>2015-01-01</td>\n",
       "      <td>-0.160359</td>\n",
       "      <td>140155</td>\n",
       "      <td>EE</td>\n",
       "    </tr>\n",
       "    <tr>\n",
       "      <th>1</th>\n",
       "      <td>1812</td>\n",
       "      <td>1748</td>\n",
       "      <td>Fr</td>\n",
       "      <td>2014-12-02</td>\n",
       "      <td>1080p</td>\n",
       "      <td>317564</td>\n",
       "      <td>2015-01-02</td>\n",
       "      <td>-0.160359</td>\n",
       "      <td>140155</td>\n",
       "      <td>EE</td>\n",
       "    </tr>\n",
       "    <tr>\n",
       "      <th>2</th>\n",
       "      <td>1812</td>\n",
       "      <td>1748</td>\n",
       "      <td>Fr</td>\n",
       "      <td>2014-12-02</td>\n",
       "      <td>1080p</td>\n",
       "      <td>328656</td>\n",
       "      <td>2015-01-03</td>\n",
       "      <td>-0.160359</td>\n",
       "      <td>140155</td>\n",
       "      <td>EE</td>\n",
       "    </tr>\n",
       "    <tr>\n",
       "      <th>3</th>\n",
       "      <td>1812</td>\n",
       "      <td>1748</td>\n",
       "      <td>Fr</td>\n",
       "      <td>2014-12-02</td>\n",
       "      <td>1080p</td>\n",
       "      <td>290249</td>\n",
       "      <td>2015-01-04</td>\n",
       "      <td>-0.160359</td>\n",
       "      <td>140155</td>\n",
       "      <td>EE</td>\n",
       "    </tr>\n",
       "    <tr>\n",
       "      <th>4</th>\n",
       "      <td>1812</td>\n",
       "      <td>1748</td>\n",
       "      <td>Fr</td>\n",
       "      <td>2014-12-02</td>\n",
       "      <td>1080p</td>\n",
       "      <td>217678</td>\n",
       "      <td>2015-01-05</td>\n",
       "      <td>-0.160359</td>\n",
       "      <td>140155</td>\n",
       "      <td>EE</td>\n",
       "    </tr>\n",
       "    <tr>\n",
       "      <th>5</th>\n",
       "      <td>1812</td>\n",
       "      <td>1748</td>\n",
       "      <td>Fr</td>\n",
       "      <td>2014-12-02</td>\n",
       "      <td>1080p</td>\n",
       "      <td>181824</td>\n",
       "      <td>2015-01-06</td>\n",
       "      <td>-0.160359</td>\n",
       "      <td>140155</td>\n",
       "      <td>EE</td>\n",
       "    </tr>\n",
       "    <tr>\n",
       "      <th>6</th>\n",
       "      <td>1812</td>\n",
       "      <td>1748</td>\n",
       "      <td>Fr</td>\n",
       "      <td>2014-12-02</td>\n",
       "      <td>1080p</td>\n",
       "      <td>142204</td>\n",
       "      <td>2015-01-07</td>\n",
       "      <td>-0.160359</td>\n",
       "      <td>140155</td>\n",
       "      <td>EE</td>\n",
       "    </tr>\n",
       "    <tr>\n",
       "      <th>7</th>\n",
       "      <td>1812</td>\n",
       "      <td>1748</td>\n",
       "      <td>Fr</td>\n",
       "      <td>2014-12-02</td>\n",
       "      <td>1080p</td>\n",
       "      <td>140155</td>\n",
       "      <td>2015-01-08</td>\n",
       "      <td>-0.160359</td>\n",
       "      <td>140155</td>\n",
       "      <td>EE</td>\n",
       "    </tr>\n",
       "    <tr>\n",
       "      <th>8</th>\n",
       "      <td>1812</td>\n",
       "      <td>1748</td>\n",
       "      <td>Fr</td>\n",
       "      <td>2014-12-02</td>\n",
       "      <td>1080p</td>\n",
       "      <td>124936</td>\n",
       "      <td>2015-01-09</td>\n",
       "      <td>-0.160359</td>\n",
       "      <td>140155</td>\n",
       "      <td>EE</td>\n",
       "    </tr>\n",
       "    <tr>\n",
       "      <th>9</th>\n",
       "      <td>1812</td>\n",
       "      <td>1748</td>\n",
       "      <td>Fr</td>\n",
       "      <td>2014-12-02</td>\n",
       "      <td>1080p</td>\n",
       "      <td>110113</td>\n",
       "      <td>2015-01-10</td>\n",
       "      <td>-0.160359</td>\n",
       "      <td>140155</td>\n",
       "      <td>EE</td>\n",
       "    </tr>\n",
       "  </tbody>\n",
       "</table>\n",
       "</div>"
      ],
      "text/plain": [
       "   video_id  video_length video_language video_upload_date video_quality  \\\n",
       "0      1812          1748             Fr        2014-12-02         1080p   \n",
       "1      1812          1748             Fr        2014-12-02         1080p   \n",
       "2      1812          1748             Fr        2014-12-02         1080p   \n",
       "3      1812          1748             Fr        2014-12-02         1080p   \n",
       "4      1812          1748             Fr        2014-12-02         1080p   \n",
       "5      1812          1748             Fr        2014-12-02         1080p   \n",
       "6      1812          1748             Fr        2014-12-02         1080p   \n",
       "7      1812          1748             Fr        2014-12-02         1080p   \n",
       "8      1812          1748             Fr        2014-12-02         1080p   \n",
       "9      1812          1748             Fr        2014-12-02         1080p   \n",
       "\n",
       "    count       date     trend  median_count label  \n",
       "0  313181 2015-01-01 -0.160359        140155    EE  \n",
       "1  317564 2015-01-02 -0.160359        140155    EE  \n",
       "2  328656 2015-01-03 -0.160359        140155    EE  \n",
       "3  290249 2015-01-04 -0.160359        140155    EE  \n",
       "4  217678 2015-01-05 -0.160359        140155    EE  \n",
       "5  181824 2015-01-06 -0.160359        140155    EE  \n",
       "6  142204 2015-01-07 -0.160359        140155    EE  \n",
       "7  140155 2015-01-08 -0.160359        140155    EE  \n",
       "8  124936 2015-01-09 -0.160359        140155    EE  \n",
       "9  110113 2015-01-10 -0.160359        140155    EE  "
      ]
     },
     "execution_count": 23,
     "metadata": {},
     "output_type": "execute_result"
    }
   ],
   "source": [
    "combinedDf = featuresDf.merge(countsDf, how='outer', on='video_id')\n",
    "print(combinedDf.shape)\n",
    "combinedDf.head(10)"
   ]
  },
  {
   "cell_type": "markdown",
   "metadata": {},
   "source": [
    "I now perform some univariate analysis between various features and the labels.\n",
    "\n",
    "### *Feature: Video length*\n",
    "\n",
    "This is a countinuos numeric value, so I would use both box plot to check on the distribution. "
   ]
  },
  {
   "cell_type": "code",
   "execution_count": 24,
   "metadata": {},
   "outputs": [
    {
     "data": {
      "text/plain": [
       "<seaborn.axisgrid.FacetGrid at 0x270b0ac09e8>"
      ]
     },
     "execution_count": 24,
     "metadata": {},
     "output_type": "execute_result"
    },
    {
     "data": {
      "image/png": "[encoded data removed]",
      "text/plain": [
       "<Figure size 720x360 with 1 Axes>"
      ]
     },
     "metadata": {
      "needs_background": "light"
     },
     "output_type": "display_data"
    }
   ],
   "source": [
    "#box plot to check on the mutual distiburion of labels and vide lengths.\n",
    "sns.catplot(x='label', y='video_length', data=combinedDf, kind='box', aspect=2)"
   ]
  },
  {
   "cell_type": "markdown",
   "metadata": {},
   "source": [
    "Interesting finding... It seems like \"Hot\" videos are more associated with shorter videos. "
   ]
  },
  {
   "cell_type": "markdown",
   "metadata": {},
   "source": [
    "### *Feature: Video quality*\n",
    "\n",
    "This is a categorical variable, but is ordinal, i.e. the categories represent the order of the quality of the video. As such, before analysis, I will encode this variable: that is, I create numerical values representing these categories while maintaining the order. I use this mapping strategy to do so: {'240p':1, '360p':1, '480p':2, '720p':3, '1080p':4}"
   ]
  },
  {
   "cell_type": "code",
   "execution_count": 25,
   "metadata": {},
   "outputs": [],
   "source": [
    "combinedDf['video_quality'] = combinedDf['video_quality'].map({'240p':0, '360p':1, '480p':2, '720p':3, '1080p':4})"
   ]
  },
  {
   "cell_type": "markdown",
   "metadata": {},
   "source": [
    "After this mapping, I first look at the count distribution across various video qualities. This is to show me any significant bias in favour of/against any of the video qualities, which may results in biased results/conclusions. "
   ]
  },
  {
   "cell_type": "code",
   "execution_count": 26,
   "metadata": {},
   "outputs": [
    {
     "data": {
      "text/plain": [
       "<seaborn.axisgrid.FacetGrid at 0x270b0af0780>"
      ]
     },
     "execution_count": 26,
     "metadata": {},
     "output_type": "execute_result"
    },
    {
     "data": {
      "image/png": "[encoded data removed]",
      "text/plain": [
       "<Figure size 360x360 with 1 Axes>"
      ]
     },
     "metadata": {
      "needs_background": "light"
     },
     "output_type": "display_data"
    }
   ],
   "source": [
    "sns.catplot(x='video_quality', data=combinedDf, kind='count')"
   ]
  },
  {
   "cell_type": "markdown",
   "metadata": {},
   "source": [
    "It is seen that there are more higher quality videos among the samples than lower quality ones. I have to make sure that my analysis take this into consideration for drawing any conclusions. \n",
    "\n",
    "One way that can lead to low-biased conslusion in such case is to look at the conditional probabilities. In other words, we want to know more about \"Hot\" videos. So, I would like to find out if I know the video quality, is it then more or less likely for that video to be \"Hot\"? i.e. probability(\"Hot\" given quality is X). \n",
    "\n",
    "To go about such analysis, I can look at the counts matrix as below:"
   ]
  },
  {
   "cell_type": "code",
   "execution_count": 27,
   "metadata": {},
   "outputs": [
    {
     "data": {
      "text/html": [
       "<div>\n",
       "<style scoped>\n",
       "    .dataframe tbody tr th:only-of-type {\n",
       "        vertical-align: middle;\n",
       "    }\n",
       "\n",
       "    .dataframe tbody tr th {\n",
       "        vertical-align: top;\n",
       "    }\n",
       "\n",
       "    .dataframe thead th {\n",
       "        text-align: right;\n",
       "    }\n",
       "</style>\n",
       "<table border=\"1\" class=\"dataframe\">\n",
       "  <thead>\n",
       "    <tr style=\"text-align: right;\">\n",
       "      <th>video_quality</th>\n",
       "      <th>0</th>\n",
       "      <th>1</th>\n",
       "      <th>2</th>\n",
       "      <th>3</th>\n",
       "      <th>4</th>\n",
       "    </tr>\n",
       "    <tr>\n",
       "      <th>label</th>\n",
       "      <th></th>\n",
       "      <th></th>\n",
       "      <th></th>\n",
       "      <th></th>\n",
       "      <th></th>\n",
       "    </tr>\n",
       "  </thead>\n",
       "  <tbody>\n",
       "    <tr>\n",
       "      <th>EE</th>\n",
       "      <td>2985</td>\n",
       "      <td>4935</td>\n",
       "      <td>7530</td>\n",
       "      <td>7110</td>\n",
       "      <td>9060</td>\n",
       "    </tr>\n",
       "    <tr>\n",
       "      <th>Hot</th>\n",
       "      <td>645</td>\n",
       "      <td>1050</td>\n",
       "      <td>1350</td>\n",
       "      <td>2400</td>\n",
       "      <td>2055</td>\n",
       "    </tr>\n",
       "    <tr>\n",
       "      <th>SP</th>\n",
       "      <td>300</td>\n",
       "      <td>360</td>\n",
       "      <td>645</td>\n",
       "      <td>525</td>\n",
       "      <td>825</td>\n",
       "    </tr>\n",
       "  </tbody>\n",
       "</table>\n",
       "</div>"
      ],
      "text/plain": [
       "video_quality     0     1     2     3     4\n",
       "label                                      \n",
       "EE             2985  4935  7530  7110  9060\n",
       "Hot             645  1050  1350  2400  2055\n",
       "SP              300   360   645   525   825"
      ]
     },
     "execution_count": 27,
     "metadata": {},
     "output_type": "execute_result"
    }
   ],
   "source": [
    "combinedDf.groupby(['label','video_quality']).size().unstack(fill_value=0)"
   ]
  },
  {
   "cell_type": "markdown",
   "metadata": {},
   "source": [
    "Or more precisely, calculate the conditional probabilities as described above in the following manner:"
   ]
  },
  {
   "cell_type": "code",
   "execution_count": 28,
   "metadata": {},
   "outputs": [
    {
     "data": {
      "text/plain": [
       "label  video_quality\n",
       "EE     0                0.759542\n",
       "       1                0.777778\n",
       "       2                0.790551\n",
       "       3                0.708520\n",
       "       4                0.758794\n",
       "Hot    0                0.164122\n",
       "       1                0.165485\n",
       "       2                0.141732\n",
       "       3                0.239163\n",
       "       4                0.172111\n",
       "SP     0                0.076336\n",
       "       1                0.056738\n",
       "       2                0.067717\n",
       "       3                0.052317\n",
       "       4                0.069095\n",
       "dtype: float64"
      ]
     },
     "execution_count": 28,
     "metadata": {},
     "output_type": "execute_result"
    }
   ],
   "source": [
    "#conditional probabilities\n",
    "qualityProbs = combinedDf.groupby('video_quality').size().div(len(combinedDf))\n",
    "combinedDf.groupby(['label', 'video_quality']).size().div(len(combinedDf)).div(qualityProbs, axis=0, level='video_quality')"
   ]
  },
  {
   "cell_type": "markdown",
   "metadata": {},
   "source": [
    "Another interesting finding.... <br>\n",
    "Looking at the conditional probabilities, I can see that among all video qualities, quality 3 (=720p) gives me the highest probability for the video to be \"Hot\" while quality 2 (=480p) give the least. \n",
    "\n",
    "\n",
    "### *Video language*\n",
    "\n",
    "Next up is the video language. This is a categorical variable which in first glance may not be ordinal, i.e. the categories may not preserve a natural order. However, in the context of this problem, as we are investigating the effect of video language of its popularity, then I believe the language can be ordinal, because they can be ordered in terms of the number of speakers (not necessarily native) of the language worldwide. I believe this can have an effect on the popularity of the video.\n",
    "\n",
    "As such, I use the information in wikipedia (https://en.wikipedia.org/wiki/List_of_languages_by_total_number_of_speakers) to map and order the languages in this dataset based on the number of total speakers of that language worldwide - I note that \"other\" could be anything and therefore in totall would be more than all other languages.\n",
    "{'De':0, 'Fr':1, 'Es':2, 'Cn':3, 'En':4, 'other':5}"
   ]
  },
  {
   "cell_type": "code",
   "execution_count": 29,
   "metadata": {},
   "outputs": [],
   "source": [
    "combinedDf['video_language'] = combinedDf['video_language'].map({'De':0, 'Fr':1, 'Es':2, 'Cn':3, 'En':4, 'Other':5})"
   ]
  },
  {
   "cell_type": "markdown",
   "metadata": {},
   "source": [
    "After this mapping, I first look at the count distribution across various languages, to check for possible sampling bias. "
   ]
  },
  {
   "cell_type": "code",
   "execution_count": 30,
   "metadata": {},
   "outputs": [
    {
     "data": {
      "text/plain": [
       "<seaborn.axisgrid.FacetGrid at 0x270b0a94dd8>"
      ]
     },
     "execution_count": 30,
     "metadata": {},
     "output_type": "execute_result"
    },
    {
     "data": {
      "image/png": "[encoded data removed]",
      "text/plain": [
       "<Figure size 360x360 with 1 Axes>"
      ]
     },
     "metadata": {
      "needs_background": "light"
     },
     "output_type": "display_data"
    }
   ],
   "source": [
    "sns.catplot(x='video_language', data=combinedDf, kind='count')"
   ]
  },
  {
   "cell_type": "markdown",
   "metadata": {},
   "source": [
    "It is seen that there are different number of languages among samples, some very high and some very low. I have to make sure that my analysis take this into consideration for drawing any conclusions. \n",
    "\n",
    "Again I go anbout this by looking at the conditional probabilities. In other words, I would like to find out if I know the language of a video, is it then more or less likely for that video to be \"Hot\"? i.e. probability(\"Hot\" given language is X). \n",
    "\n",
    "To go about such analysis, I can look at the counts matrix as below:"
   ]
  },
  {
   "cell_type": "code",
   "execution_count": 31,
   "metadata": {},
   "outputs": [
    {
     "data": {
      "text/html": [
       "<div>\n",
       "<style scoped>\n",
       "    .dataframe tbody tr th:only-of-type {\n",
       "        vertical-align: middle;\n",
       "    }\n",
       "\n",
       "    .dataframe tbody tr th {\n",
       "        vertical-align: top;\n",
       "    }\n",
       "\n",
       "    .dataframe thead th {\n",
       "        text-align: right;\n",
       "    }\n",
       "</style>\n",
       "<table border=\"1\" class=\"dataframe\">\n",
       "  <thead>\n",
       "    <tr style=\"text-align: right;\">\n",
       "      <th>video_language</th>\n",
       "      <th>0</th>\n",
       "      <th>1</th>\n",
       "      <th>2</th>\n",
       "      <th>3</th>\n",
       "      <th>4</th>\n",
       "      <th>5</th>\n",
       "    </tr>\n",
       "    <tr>\n",
       "      <th>label</th>\n",
       "      <th></th>\n",
       "      <th></th>\n",
       "      <th></th>\n",
       "      <th></th>\n",
       "      <th></th>\n",
       "      <th></th>\n",
       "    </tr>\n",
       "  </thead>\n",
       "  <tbody>\n",
       "    <tr>\n",
       "      <th>EE</th>\n",
       "      <td>840</td>\n",
       "      <td>870</td>\n",
       "      <td>4200</td>\n",
       "      <td>9270</td>\n",
       "      <td>8940</td>\n",
       "      <td>7500</td>\n",
       "    </tr>\n",
       "    <tr>\n",
       "      <th>Hot</th>\n",
       "      <td>90</td>\n",
       "      <td>240</td>\n",
       "      <td>870</td>\n",
       "      <td>2250</td>\n",
       "      <td>2760</td>\n",
       "      <td>1290</td>\n",
       "    </tr>\n",
       "    <tr>\n",
       "      <th>SP</th>\n",
       "      <td>105</td>\n",
       "      <td>60</td>\n",
       "      <td>300</td>\n",
       "      <td>1050</td>\n",
       "      <td>840</td>\n",
       "      <td>300</td>\n",
       "    </tr>\n",
       "  </tbody>\n",
       "</table>\n",
       "</div>"
      ],
      "text/plain": [
       "video_language    0    1     2     3     4     5\n",
       "label                                           \n",
       "EE              840  870  4200  9270  8940  7500\n",
       "Hot              90  240   870  2250  2760  1290\n",
       "SP              105   60   300  1050   840   300"
      ]
     },
     "execution_count": 31,
     "metadata": {},
     "output_type": "execute_result"
    }
   ],
   "source": [
    "combinedDf.groupby(['label','video_language']).size().unstack(fill_value=0)"
   ]
  },
  {
   "cell_type": "code",
   "execution_count": 32,
   "metadata": {},
   "outputs": [
    {
     "data": {
      "text/plain": [
       "label  video_language\n",
       "EE     0                 0.811594\n",
       "       1                 0.743590\n",
       "       2                 0.782123\n",
       "       3                 0.737470\n",
       "       4                 0.712919\n",
       "       5                 0.825083\n",
       "Hot    0                 0.086957\n",
       "       1                 0.205128\n",
       "       2                 0.162011\n",
       "       3                 0.178998\n",
       "       4                 0.220096\n",
       "       5                 0.141914\n",
       "SP     0                 0.101449\n",
       "       1                 0.051282\n",
       "       2                 0.055866\n",
       "       3                 0.083532\n",
       "       4                 0.066986\n",
       "       5                 0.033003\n",
       "dtype: float64"
      ]
     },
     "execution_count": 32,
     "metadata": {},
     "output_type": "execute_result"
    }
   ],
   "source": [
    "#conditional probabilities\n",
    "qualityProbs = combinedDf.groupby('video_language').size().div(len(combinedDf))\n",
    "combinedDf.groupby(['label', 'video_language']).size().div(len(combinedDf)).div(qualityProbs, axis=0, level='video_language')"
   ]
  },
  {
   "cell_type": "markdown",
   "metadata": {},
   "source": [
    "Another interesting finding.... <br>\n",
    "Looking at the conditional probabilities, I can see that among all languages, language 4 (=English) gives me the highest probability for the video to be \"Hot\", followed marginally by French. while language 0 (German) gives the least. For me, it is quaite expected for English to be on top, but French being the second highest is quaite an interesting finding...  \n",
    "\n",
    "### *Video upload date*\n",
    "\n",
    "Another given attribute for the videos is the date of upload. It can be quite an interesting feature... <br>\n",
    "\n",
    "\n",
    "\n",
    "As seen in the EDA section, all videos are being analysed over an identical period with no gap (15 days from 1 to 15 Jan 2015).\n",
    "Given the notes above, I decided to create a new feature based on the upload date, which shows the how long before the start of the period the video was uploaded? \n",
    "\n",
    "First, I want to know what range of upload dates I am dealing with:"
   ]
  },
  {
   "cell_type": "code",
   "execution_count": 33,
   "metadata": {},
   "outputs": [
    {
     "data": {
      "text/plain": [
       "array(['2014-12-02T00:00:00.000000000', '2014-12-03T00:00:00.000000000',\n",
       "       '2014-12-04T00:00:00.000000000', '2014-12-05T00:00:00.000000000',\n",
       "       '2014-12-06T00:00:00.000000000', '2014-12-07T00:00:00.000000000',\n",
       "       '2014-12-08T00:00:00.000000000', '2014-12-09T00:00:00.000000000',\n",
       "       '2014-12-10T00:00:00.000000000', '2014-12-11T00:00:00.000000000',\n",
       "       '2014-12-12T00:00:00.000000000', '2014-12-13T00:00:00.000000000',\n",
       "       '2014-12-14T00:00:00.000000000', '2014-12-15T00:00:00.000000000',\n",
       "       '2014-12-16T00:00:00.000000000', '2014-12-17T00:00:00.000000000',\n",
       "       '2014-12-18T00:00:00.000000000', '2014-12-19T00:00:00.000000000',\n",
       "       '2014-12-20T00:00:00.000000000', '2014-12-21T00:00:00.000000000',\n",
       "       '2014-12-22T00:00:00.000000000', '2014-12-23T00:00:00.000000000',\n",
       "       '2014-12-24T00:00:00.000000000'], dtype='datetime64[ns]')"
      ]
     },
     "execution_count": 33,
     "metadata": {},
     "output_type": "execute_result"
    }
   ],
   "source": [
    "combinedDf['video_upload_date'].unique()"
   ]
  },
  {
   "cell_type": "markdown",
   "metadata": {},
   "source": [
    "I initially thought perhaps it would be interesting to see the relation between \"age of video = number of days since the upload of the video\" vs \"counts\". Let me create this feature and have a play around the data:"
   ]
  },
  {
   "cell_type": "code",
   "execution_count": 34,
   "metadata": {},
   "outputs": [
    {
     "data": {
      "text/html": [
       "<div>\n",
       "<style scoped>\n",
       "    .dataframe tbody tr th:only-of-type {\n",
       "        vertical-align: middle;\n",
       "    }\n",
       "\n",
       "    .dataframe tbody tr th {\n",
       "        vertical-align: top;\n",
       "    }\n",
       "\n",
       "    .dataframe thead th {\n",
       "        text-align: right;\n",
       "    }\n",
       "</style>\n",
       "<table border=\"1\" class=\"dataframe\">\n",
       "  <thead>\n",
       "    <tr style=\"text-align: right;\">\n",
       "      <th></th>\n",
       "      <th>video_id</th>\n",
       "      <th>video_length</th>\n",
       "      <th>video_language</th>\n",
       "      <th>video_upload_date</th>\n",
       "      <th>video_quality</th>\n",
       "      <th>count</th>\n",
       "      <th>date</th>\n",
       "      <th>trend</th>\n",
       "      <th>median_count</th>\n",
       "      <th>label</th>\n",
       "      <th>days_since_upload</th>\n",
       "    </tr>\n",
       "  </thead>\n",
       "  <tbody>\n",
       "    <tr>\n",
       "      <th>0</th>\n",
       "      <td>1812</td>\n",
       "      <td>1748</td>\n",
       "      <td>1</td>\n",
       "      <td>2014-12-02</td>\n",
       "      <td>4</td>\n",
       "      <td>313181</td>\n",
       "      <td>2015-01-01</td>\n",
       "      <td>-0.160359</td>\n",
       "      <td>140155</td>\n",
       "      <td>EE</td>\n",
       "      <td>30</td>\n",
       "    </tr>\n",
       "    <tr>\n",
       "      <th>1</th>\n",
       "      <td>1812</td>\n",
       "      <td>1748</td>\n",
       "      <td>1</td>\n",
       "      <td>2014-12-02</td>\n",
       "      <td>4</td>\n",
       "      <td>317564</td>\n",
       "      <td>2015-01-02</td>\n",
       "      <td>-0.160359</td>\n",
       "      <td>140155</td>\n",
       "      <td>EE</td>\n",
       "      <td>31</td>\n",
       "    </tr>\n",
       "    <tr>\n",
       "      <th>2</th>\n",
       "      <td>1812</td>\n",
       "      <td>1748</td>\n",
       "      <td>1</td>\n",
       "      <td>2014-12-02</td>\n",
       "      <td>4</td>\n",
       "      <td>328656</td>\n",
       "      <td>2015-01-03</td>\n",
       "      <td>-0.160359</td>\n",
       "      <td>140155</td>\n",
       "      <td>EE</td>\n",
       "      <td>32</td>\n",
       "    </tr>\n",
       "    <tr>\n",
       "      <th>3</th>\n",
       "      <td>1812</td>\n",
       "      <td>1748</td>\n",
       "      <td>1</td>\n",
       "      <td>2014-12-02</td>\n",
       "      <td>4</td>\n",
       "      <td>290249</td>\n",
       "      <td>2015-01-04</td>\n",
       "      <td>-0.160359</td>\n",
       "      <td>140155</td>\n",
       "      <td>EE</td>\n",
       "      <td>33</td>\n",
       "    </tr>\n",
       "    <tr>\n",
       "      <th>4</th>\n",
       "      <td>1812</td>\n",
       "      <td>1748</td>\n",
       "      <td>1</td>\n",
       "      <td>2014-12-02</td>\n",
       "      <td>4</td>\n",
       "      <td>217678</td>\n",
       "      <td>2015-01-05</td>\n",
       "      <td>-0.160359</td>\n",
       "      <td>140155</td>\n",
       "      <td>EE</td>\n",
       "      <td>34</td>\n",
       "    </tr>\n",
       "  </tbody>\n",
       "</table>\n",
       "</div>"
      ],
      "text/plain": [
       "   video_id  video_length  video_language video_upload_date  video_quality  \\\n",
       "0      1812          1748               1        2014-12-02              4   \n",
       "1      1812          1748               1        2014-12-02              4   \n",
       "2      1812          1748               1        2014-12-02              4   \n",
       "3      1812          1748               1        2014-12-02              4   \n",
       "4      1812          1748               1        2014-12-02              4   \n",
       "\n",
       "    count       date     trend  median_count label  days_since_upload  \n",
       "0  313181 2015-01-01 -0.160359        140155    EE                 30  \n",
       "1  317564 2015-01-02 -0.160359        140155    EE                 31  \n",
       "2  328656 2015-01-03 -0.160359        140155    EE                 32  \n",
       "3  290249 2015-01-04 -0.160359        140155    EE                 33  \n",
       "4  217678 2015-01-05 -0.160359        140155    EE                 34  "
      ]
     },
     "execution_count": 34,
     "metadata": {},
     "output_type": "execute_result"
    }
   ],
   "source": [
    "combinedDf['days_since_upload'] = combinedDf.apply(lambda r: (r['date']-r['video_upload_date']).days, axis=1)\n",
    "combinedDf.head()"
   ]
  },
  {
   "cell_type": "markdown",
   "metadata": {},
   "source": [
    "Now I want to look at the relation between age of the video and view counts below:"
   ]
  },
  {
   "cell_type": "code",
   "execution_count": 35,
   "metadata": {},
   "outputs": [
    {
     "data": {
      "text/plain": [
       "<seaborn.axisgrid.FacetGrid at 0x270b0a719b0>"
      ]
     },
     "execution_count": 35,
     "metadata": {},
     "output_type": "execute_result"
    },
    {
     "data": {
      "image/png": "[encoded data removed]",
      "text/plain": [
       "<Figure size 1493.38x360 with 1 Axes>"
      ]
     },
     "metadata": {
      "needs_background": "light"
     },
     "output_type": "display_data"
    }
   ],
   "source": [
    "sns.catplot(x='days_since_upload', y='count', hue='label', data=combinedDf, kind='point', aspect=4)"
   ]
  },
  {
   "cell_type": "markdown",
   "metadata": {},
   "source": [
    "I can see that overal, for both \"Hot\" and \"Popular & Stable\" videos, the older they get, the more view daily view counts (not accumulative) they get whereas the \"EE\" videos are seeing a declining trend. However, this could not be a complete picture, because we are limiting the view to 15 days period, and cannot see if the counts videos are going to continue to grow for \"Hot\" and \"SP\" videos or if (when) it would plateau or even drop. This takes me back to check the problem in hand and the labeling logic.\n",
    "\n",
    "I note that here as per the logic of labeling the data, \"Hot\"ness is defined over a period of 15 days; In other words, the business problem (and the product) is about evaluating the potential of a video to become \"Hot\" over a period, using the information available at the start of that period, as opposed to progressively at each point of time (on each day) being able to predict the counts in next day, using the previous counts. The latter is obviously a valid model (forecasting) but is for a different product.\n",
    "\n",
    "Given these observations, I decided to create another feature that is more suitable for the business problem here: the age of the video at the start of analysis (target) period."
   ]
  },
  {
   "cell_type": "code",
   "execution_count": 36,
   "metadata": {},
   "outputs": [
    {
     "data": {
      "text/plain": [
       "array([30, 29, 28, 27, 26, 25, 24, 23, 22, 21, 20, 19, 18, 17, 16, 15, 14,\n",
       "       13, 12, 11, 10,  9,  8], dtype=int64)"
      ]
     },
     "execution_count": 36,
     "metadata": {},
     "output_type": "execute_result"
    }
   ],
   "source": [
    "import datetime as dt\n",
    "combinedDf = combinedDf.drop(['days_since_upload'], axis=1)\n",
    "combinedDf['age_at_period_start'] = combinedDf.apply(lambda r: (dt.datetime(2015,1,1)-r['video_upload_date']).days, axis=1)\n",
    "combinedDf['age_at_period_start'].unique()"
   ]
  },
  {
   "cell_type": "markdown",
   "metadata": {},
   "source": [
    "This is a numerical feature and I want to explore its correlation with the Label using the box plot. Before doing that, I also look at count of various video ages among the data."
   ]
  },
  {
   "cell_type": "code",
   "execution_count": 37,
   "metadata": {},
   "outputs": [
    {
     "data": {
      "text/plain": [
       "<seaborn.axisgrid.FacetGrid at 0x270b0bbb208>"
      ]
     },
     "execution_count": 37,
     "metadata": {},
     "output_type": "execute_result"
    },
    {
     "data": {
      "image/png": "[encoded data removed]",
      "text/plain": [
       "<Figure size 720x360 with 1 Axes>"
      ]
     },
     "metadata": {
      "needs_background": "light"
     },
     "output_type": "display_data"
    }
   ],
   "source": [
    "sns.catplot(x='age_at_period_start', data=combinedDf, kind='count', aspect=2)"
   ]
  },
  {
   "cell_type": "code",
   "execution_count": 38,
   "metadata": {},
   "outputs": [
    {
     "data": {
      "text/plain": [
       "<seaborn.axisgrid.FacetGrid at 0x270b3c89160>"
      ]
     },
     "execution_count": 38,
     "metadata": {},
     "output_type": "execute_result"
    },
    {
     "data": {
      "image/png": "[encoded data removed]",
      "text/plain": [
       "<Figure size 720x360 with 1 Axes>"
      ]
     },
     "metadata": {
      "needs_background": "light"
     },
     "output_type": "display_data"
    }
   ],
   "source": [
    "sns.catplot(x='label', y='age_at_period_start', data=combinedDf, kind='box', aspect=2)"
   ]
  },
  {
   "cell_type": "markdown",
   "metadata": {},
   "source": [
    "Another piece of finding...<br>\n",
    "An obvious correlation can be seen here; \"Hot\" videos are quite clearly isolated from other labels based on the age of video.  Hot videos are more likely to be among younger videos (more recently uploaded) specially below 15 days of age at the start of the period.\n",
    "\n",
    "At this stage, after running some univariate analysis (i.e. associateion of each feature to the target variabel \"label\") and obtaining some interesting insights, I want to run a multivariate analysis. The reason is although univariate analysis can bring in insights for business decisions, sometimes it can not show (or even it can hide) the underlying truth. Because univariate analysis only looks at the impact of each feature on the target variabel in isolation from other features, it may not clearly demonstrate multivariate impacts. For example, we might see that video quality of 720p is more likely to get hot vs other qualities, but what if in the data we are looking at 720p videos mostly contain English language videos, and the effect that we are seeing is actually have something to do with the language rather than the quality! This is true for all other features. As such, a multivariate analysis can at the same time look at relative impact of features on the target variable and give us a more clear and accurate picture.\n",
    "\n",
    "A very useful way to do multivariate analysis in a quick and robust way is to use tree-based models, and check the feature importances (i.e. the impact of various features in building a predictive tree model), because in fitting a tree, at each branching node, the decision is made by considering the impacts of all the features not each in isolation. This will give us what we were after. \n",
    "\n",
    "I can build a model three labels: \"Hot\", \"SP\" and \"EE\". But because the business question is only about the \"Hot videos, I create a binary target variable for the label: \"Hot\" vs \"not Hot\". \n",
    "\n",
    "## Multivariate Analysis: Tree-based feature importance\n",
    "\n",
    "### Hot vs Others (Binary classification)\n",
    "\n",
    "First I group the data on the features and label in a new dataframe and then relabel the target variable to include only two classes."
   ]
  },
  {
   "cell_type": "code",
   "execution_count": 39,
   "metadata": {},
   "outputs": [
    {
     "data": {
      "text/html": [
       "<div>\n",
       "<style scoped>\n",
       "    .dataframe tbody tr th:only-of-type {\n",
       "        vertical-align: middle;\n",
       "    }\n",
       "\n",
       "    .dataframe tbody tr th {\n",
       "        vertical-align: top;\n",
       "    }\n",
       "\n",
       "    .dataframe thead th {\n",
       "        text-align: right;\n",
       "    }\n",
       "</style>\n",
       "<table border=\"1\" class=\"dataframe\">\n",
       "  <thead>\n",
       "    <tr style=\"text-align: right;\">\n",
       "      <th></th>\n",
       "      <th>label</th>\n",
       "      <th>video_length</th>\n",
       "      <th>video_language</th>\n",
       "      <th>video_quality</th>\n",
       "      <th>age_at_period_start</th>\n",
       "    </tr>\n",
       "  </thead>\n",
       "  <tbody>\n",
       "    <tr>\n",
       "      <th>0</th>\n",
       "      <td>0</td>\n",
       "      <td>10</td>\n",
       "      <td>4</td>\n",
       "      <td>3</td>\n",
       "      <td>21</td>\n",
       "    </tr>\n",
       "    <tr>\n",
       "      <th>1</th>\n",
       "      <td>0</td>\n",
       "      <td>10</td>\n",
       "      <td>5</td>\n",
       "      <td>1</td>\n",
       "      <td>30</td>\n",
       "    </tr>\n",
       "    <tr>\n",
       "      <th>2</th>\n",
       "      <td>0</td>\n",
       "      <td>10</td>\n",
       "      <td>5</td>\n",
       "      <td>2</td>\n",
       "      <td>28</td>\n",
       "    </tr>\n",
       "    <tr>\n",
       "      <th>3</th>\n",
       "      <td>0</td>\n",
       "      <td>15</td>\n",
       "      <td>3</td>\n",
       "      <td>1</td>\n",
       "      <td>17</td>\n",
       "    </tr>\n",
       "    <tr>\n",
       "      <th>4</th>\n",
       "      <td>0</td>\n",
       "      <td>15</td>\n",
       "      <td>3</td>\n",
       "      <td>1</td>\n",
       "      <td>23</td>\n",
       "    </tr>\n",
       "  </tbody>\n",
       "</table>\n",
       "</div>"
      ],
      "text/plain": [
       "   label  video_length  video_language  video_quality  age_at_period_start\n",
       "0      0            10               4              3                   21\n",
       "1      0            10               5              1                   30\n",
       "2      0            10               5              2                   28\n",
       "3      0            15               3              1                   17\n",
       "4      0            15               3              1                   23"
      ]
     },
     "execution_count": 39,
     "metadata": {},
     "output_type": "execute_result"
    }
   ],
   "source": [
    "data = combinedDf.groupby(['label', 'video_length', 'video_language', 'video_quality', 'age_at_period_start']).max().reset_index()\n",
    "data = data[['label', 'video_length', 'video_language', 'video_quality', 'age_at_period_start']]\n",
    "data['label'] = data['label'].map({\"Hot\":1, \"SP\":0, \"EE\":0})\n",
    "data.head()"
   ]
  },
  {
   "cell_type": "markdown",
   "metadata": {},
   "source": [
    "Here we are dealing with a binary classification. <br>\n",
    "As I am dealing with an unbalaced dataset here (~25% of totals are 1 and ~75% is 0), I choose the metric \"f1_score\", that creates a balance between precision and recall.  Later I will also investigate the cofusion matrix as well.\n",
    "\n",
    "I use the utilities provided by sklearn package.  \n",
    "\n",
    "I note that as tree-based models are not sesitive to scaling of the predictors, I do not need to scale the feature matrix. Hence, I only create train and test (70% train and 30% test) sets to check the performance of the model and also find out about feature importances."
   ]
  },
  {
   "cell_type": "code",
   "execution_count": 40,
   "metadata": {},
   "outputs": [],
   "source": [
    "from sklearn.model_selection import train_test_split\n",
    "#splitting data into train and test\n",
    "x_train, x_test, y_train, y_test = train_test_split(data.iloc[:, 1:], data.iloc[:, 0], test_size=0.3, random_state=111)"
   ]
  },
  {
   "cell_type": "code",
   "execution_count": 41,
   "metadata": {},
   "outputs": [
    {
     "name": "stdout",
     "output_type": "stream",
     "text": [
      "Accuracy =  0.9230769230769231\n",
      "F1 score =  0.7837837837837838\n"
     ]
    },
    {
     "data": {
      "text/plain": [
       "array([[652,  35],\n",
       "       [ 29, 116]], dtype=int64)"
      ]
     },
     "execution_count": 41,
     "metadata": {},
     "output_type": "execute_result"
    }
   ],
   "source": [
    "from sklearn.metrics import confusion_matrix, accuracy_score, f1_score\n",
    "from sklearn.tree import DecisionTreeClassifier\n",
    "\n",
    "est = DecisionTreeClassifier(random_state=0)  #create an instance of DT classifier - set random state for reproducability\n",
    "est.fit(x_train, y_train)                     #fitting the classifier to the train data \n",
    "y_pred = est.predict(x_test)                  #using the fitted model to predict labels for test data \n",
    "print(\"Accuracy = \", accuracy_score(y_test, y_pred))    #what is the accuracy score?\n",
    "print(\"F1 score = \", f1_score(y_test, y_pred))          #what is the f1 score?\n",
    "confusion_matrix(y_test, y_pred)                        #let's have a look at the confusion matrix"
   ]
  },
  {
   "cell_type": "markdown",
   "metadata": {},
   "source": [
    "I can see from the confusion matrix that the prediction power is not very high, but reasonably high. The recall power is a little bit better than precision, but in general I believe it is a reasonable model for the purpose of finding out about feature importances. \n",
    "\n",
    "I note that if such a model were to be productionise, there are ways to improve the accuracy. I would definitely look at random forest as well as gradient boosting tree models. Plus, I would also do paramter tuning as well as maybe data resampling (to tackle imbalance dataset).\n",
    "\n",
    "However, for the purpose of the objective here (feature importances) I believe the current model is sufficient.\n",
    "\n",
    "## *Feature importance*\n",
    "\n",
    "So now I will look at feature importances from the tree model, first in numbers and then visualised."
   ]
  },
  {
   "cell_type": "code",
   "execution_count": 42,
   "metadata": {},
   "outputs": [
    {
     "data": {
      "text/plain": [
       "video_length           0.217259\n",
       "video_language         0.044272\n",
       "video_quality          0.034310\n",
       "age_at_period_start    0.704159\n",
       "dtype: float64"
      ]
     },
     "execution_count": 42,
     "metadata": {},
     "output_type": "execute_result"
    }
   ],
   "source": [
    "pd.Series(est.feature_importances_, index=list(x_train))"
   ]
  },
  {
   "cell_type": "code",
   "execution_count": 43,
   "metadata": {},
   "outputs": [
    {
     "data": {
      "text/plain": [
       "<matplotlib.axes._subplots.AxesSubplot at 0x270b2d12780>"
      ]
     },
     "execution_count": 43,
     "metadata": {},
     "output_type": "execute_result"
    },
    {
     "data": {
      "image/png": "[encoded data removed]",
      "text/plain": [
       "<Figure size 432x288 with 1 Axes>"
      ]
     },
     "metadata": {
      "needs_background": "light"
     },
     "output_type": "display_data"
    }
   ],
   "source": [
    "(pd.Series(est.feature_importances_, index=list(x_train)).nlargest(5).plot(kind='barh'))"
   ]
  },
  {
   "cell_type": "markdown",
   "metadata": {},
   "source": [
    "We can see clearly see the importance of various features in the prediciton of the label. \"age_at_period_start\" clearly dominates the importance for the prediciton of labels, and it explains about 70% of the decision made to branch the tree. In the second place is the \"video_length\" explaining about 20% of the decisions. The other two features are quite close, with \"video_language\" being slightly more important that \"video_quality\".  \n",
    "\n",
    "\n",
    "*But how would the variation within each feature impact the prediction of target?*\n",
    "\n",
    "Another useful utility in sklearn is partial dependence analysis. This analysis can illustrate the marginal impact of one or more features the on the prediction of the target variable. A partial dependence plot can show whether the relationship between the target and a feature is linear, monotonic or more complex. "
   ]
  },
  {
   "cell_type": "code",
   "execution_count": 44,
   "metadata": {},
   "outputs": [
    {
     "data": {
      "text/plain": [
       "<sklearn.inspection._partial_dependence.PartialDependenceDisplay at 0x270b2d7f4e0>"
      ]
     },
     "execution_count": 44,
     "metadata": {},
     "output_type": "execute_result"
    },
    {
     "data": {
      "image/png": "[encoded data removed]",
      "text/plain": [
       "<Figure size 432x288 with 2 Axes>"
      ]
     },
     "metadata": {
      "needs_background": "light"
     },
     "output_type": "display_data"
    },
    {
     "data": {
      "image/png": "[encoded data removed]",
      "text/plain": [
       "<Figure size 432x288 with 2 Axes>"
      ]
     },
     "metadata": {
      "needs_background": "light"
     },
     "output_type": "display_data"
    },
    {
     "data": {
      "image/png": "[encoded data removed]",
      "text/plain": [
       "<Figure size 432x288 with 2 Axes>"
      ]
     },
     "metadata": {
      "needs_background": "light"
     },
     "output_type": "display_data"
    },
    {
     "data": {
      "image/png": "[encoded data removed]",
      "text/plain": [
       "<Figure size 432x288 with 2 Axes>"
      ]
     },
     "metadata": {
      "needs_background": "light"
     },
     "output_type": "display_data"
    }
   ],
   "source": [
    "from sklearn.inspection import plot_partial_dependence\n",
    "plot_partial_dependence(est, x_train, feature_names=list(x_train), \n",
    "                        features=['video_length'], \n",
    "                        target=1) \n",
    "\n",
    "plot_partial_dependence(est, x_train, feature_names=list(x_train), \n",
    "                        features=['age_at_period_start'], \n",
    "                        target=1) \n",
    "\n",
    "plot_partial_dependence(est, x_train, feature_names=list(x_train), \n",
    "                        features=['video_quality'], \n",
    "                        target=1) \n",
    "\n",
    "plot_partial_dependence(est, x_train, feature_names=list(x_train), \n",
    "                        features=['video_language'], \n",
    "                        target=1) "
   ]
  },
  {
   "cell_type": "markdown",
   "metadata": {},
   "source": [
    "As seen from the above plots, first of all a look across four plots and the partial dependence of the four features confirms the feature importances visualised above.\n",
    "\n",
    "Moreover, we csan see per feature, how the values impact the predictions: \n",
    "1- video_length: the relation is quite complex, but it can be seen that shorter videos have higher dependence to being hot but overal there are some irregularities in the dependences. Mostly consistent with what we conslude from univariate analysis.\n",
    "\n",
    "2- age_at_period_start: very clear that more recently uploaded videos have way more impact. But for videos that are older than 17.5 (?), there is no dependence, which would mean none of the videos older than 17.5 days are hot! Overal, the finding of our univariate analysis is confirmed.\n",
    "\n",
    "3- video_quality: it is clear the lower quality videos are less likely to be hot. However, super high quality (1080p) is not necessarily the highest likelihood (maybe because not it needs more data to be played out and 720p is offering the best comprimise between quality and data usage!). This confirms our finding in univariate analysis.\n",
    "\n",
    "4- video_language: very interesting finding here, as it seems like languages \"German\" and \"French\" show higher dependence followed by English, Other languages, Chinese and Spanish. However, the differences are quite marginal.\n",
    "\n",
    "## *Tree plot*:\n",
    "\n",
    "I decided to plot the decision tree to enable further in how the model decides to classify data points. This could be useful especially to present to business experts as a way for them to better understand how the model arrives at the decisions and if it makes sense to them. \n",
    "\n",
    "In my work I have used this many times and have received good responds from the business experts about their undertsanding of the logic behind the model and how the decisions are made. I create the plot and save it to a .png image file for further use."
   ]
  },
  {
   "cell_type": "code",
   "execution_count": 46,
   "metadata": {
    "scrolled": true
   },
   "outputs": [],
   "source": [
    "from graphviz import Source\n",
    "from sklearn import tree\n",
    "from IPython.display import SVG\n",
    "graph = Source( tree.export_graphviz(est, out_file=None, feature_names=x_train.columns))\n",
    "graph.format = 'png'\n",
    "graph.render('decision_tree', view=True)"
   ]
  },
  {
   "cell_type": "markdown",
   "metadata": {},
   "source": [
    "# Q3\n",
    "\n",
    "### 3- After having identified the characteristics of the hot videos, how would you use this information from a product standpoint?\n",
    "\n",
    "### Approach 1 (low budget):\n",
    "\n",
    "One approach to a solution: rules engine (static filter)\n",
    "\n",
    "One way is creating a \"Hotness\" filter to better identify the videos that have potential to be a \"Hot\" video in a future period. This filter can very roughly mimic the decision tree build above. These videos then can be recommended to the users in a \"Hot Recommendation\" panel. I note that this is basically a static rules engine rather than a dynamic predictive model.\n",
    "\n",
    "First of all, the business needs to decide on capacity of \"Hot Recommendation\" panel: maximum how many video to show? This may depend on the technical platform and limitations as well as some other user behavior study (perhaps A/B testing on a longer or shorter list?)\n",
    " \n",
    "The logic of the filter is to take the videos through multi-leyered filter in a specific order until it reaches the capacity (lower or equal to the maximum capacity of the panel).\n",
    "the ordered layers of \"Hotness\" filter are as follows:\n",
    "\n",
    "1- Select vieos less than 14 days old.  \n",
    "\n",
    "2- Select videos with duration between 200 and 500 seconds.\n",
    "\n",
    "3- Select videos that are in one of these languages \"English, French or German\"\n",
    "\n",
    "4- select videos with 720p quality.\n",
    "\n",
    "5- If there more than capacity remaining, then randomly select videos from the remaining one to show in the \"Hot Recommendation\" panel.\n",
    "\n",
    "\n",
    "### Approach 2 (medium budget) - My personal favourite:\n",
    "\n",
    "More sophisticated than the previous one, I recommend developing and productioning a predictive model to identify the videos that are more likely to become \"Hot\" in a future period. The model can be build based on the features we investigated here in this study. The productinise process can be something like this:\n",
    "\n",
    "Build a model to predict the likelihood of a video to become \"Hot\" over a coming period (for example here our period is first 15 days of January). (Logstic Regression, or tree-based models can be used to predict probabilities not just a label)\n",
    "\n",
    "I note that the \"Stable & Popular\" videos must have been through a \"getting Hot\" journey during a period prior to the analysis period where that have reached a \"Stable & Popular\" status. So form this point of view, the product can be used costantly to repredict the \"Hotness\" pontetial at a more granualr level, for example daily. \n",
    "\n",
    "As the videos getting analysed by this model, we also keep an eye on the daily counts and as soon as the viewing counts satisfy \"Stable and Popular criteria\" as introduced in the labeling section, we move them to a separate panel, maybe the \"Stable & Popualr Recommendation\" panel and remove them from the hotness prediction dataset. We continue observing the daily viewing counts and eventually move them out of the recommendations, and to \"Everything Else\" bucket, if and when they are becoming less popular as compared to the popularity criteria. \n",
    "\n",
    "#### *How the solution process works:*\n",
    "\n",
    "#Day 0$: Run the model on a all videos available in the database (except the ones that are already determined to be \"Stable & Popular\" based on the criteria introduced in the labeling section; these can be recommended in a different panel) and predict the probabilities of getting \"Hot\". Choose the first \"n (= panel capacity)\" with the highest probabilities and show them in the recommendation panel (if a tie, choose randomly). \n",
    "\n",
    "$Day i (for i > 0)$: Run the model on all newly uploaded videos (since previous model run in Day i-1) plus the current \"n\" recommended movies in \"Hot\" panel and predict probabilities. Choose the first \"n (= panel capacity)\" with the highest probabilities and show them in the recommendation panel (if a tie, choose randomly).\n",
    "\n",
    "$Every 15 days$: Evaluate the \"Stable and Popular\" criteria on all videos and if any video found to fit the meet the criteria, remove it from the daily analysis and enter it in the another recommendation panel.\n",
    "\n",
    "$Every X weeks$ *(this needs to be designed based on the avertage volumn of daily new videos, so maybe every week or all the way up to every few months; as per this study it could be every 6 weeks!)*: Collect the videos uploaded in the past X weeks, relabel them based on the labeling logic above and retrain the model and always use the most recently retrained model for daily predictions. This way we hope that unforseen changes in user behaviour and taste can be captutred by this model. "
   ]
  },
  {
   "cell_type": "code",
   "execution_count": null,
   "metadata": {},
   "outputs": [],
   "source": []
  }
 ],
 "metadata": {
  "kernelspec": {
   "display_name": "Python 3",
   "language": "python",
   "name": "python3"
  },
  "language_info": {
   "codemirror_mode": {
    "name": "ipython",
    "version": 3
   },
   "file_extension": ".py",
   "mimetype": "text/x-python",
   "name": "python",
   "nbconvert_exporter": "python",
   "pygments_lexer": "ipython3",
   "version": "3.7.4"
  }
 },
 "nbformat": 4,
 "nbformat_minor": 2
}
